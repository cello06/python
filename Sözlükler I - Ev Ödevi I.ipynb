{
 "cells": [
  {
   "cell_type": "markdown",
   "metadata": {},
   "source": [
    "## SÖZLÜKLER I EV ÖDEVİ"
   ]
  },
  {
   "cell_type": "code",
   "execution_count": 1,
   "metadata": {},
   "outputs": [
    {
     "data": {
      "text/plain": [
       "{'Fizik': 35, 'Kimya': 63}"
      ]
     },
     "execution_count": 1,
     "metadata": {},
     "output_type": "execute_result"
    }
   ],
   "source": [
    "# Boş bir sözlük oluşturun ve ardından bu sözlüğe iki farklı anahtar-deger çifti ekleyin\n",
    "# eklenecek bilgiler: 1. anahtar 'Fizik', deger 35 2. anahtar Kimya, deger 63\n",
    "dicitonary = {}\n",
    "dicitonary[\"Fizik\"] = 35\n",
    "dicitonary[\"Kimya\"] = 63\n",
    "dicitonary"
   ]
  },
  {
   "cell_type": "code",
   "execution_count": 2,
   "metadata": {},
   "outputs": [
    {
     "data": {
      "text/plain": [
       "{'Fizik': 47, 'Kimya': 63}"
      ]
     },
     "execution_count": 2,
     "metadata": {},
     "output_type": "execute_result"
    }
   ],
   "source": [
    "# Bu sözlükteki bir elemanın değerini güncelleyin (Fizik 47 yapilacak)\n",
    "dicitonary[\"Fizik\"] = 47\n",
    "dicitonary\n"
   ]
  },
  {
   "cell_type": "code",
   "execution_count": 4,
   "metadata": {},
   "outputs": [
    {
     "name": "stdout",
     "output_type": "stream",
     "text": [
      "aydin nin uzunlugu 5 ten kucuk yazdirin\n",
      "rize nin uzunlugu 5 ten kucuk yazdirin\n",
      "mus nin uzunlugu 5 ten kucuk yazdirin\n"
     ]
    },
    {
     "data": {
      "text/plain": [
       "{'istanbul': 0, 'ankara': 0, 'bingol': 0}"
      ]
     },
     "execution_count": 4,
     "metadata": {},
     "output_type": "execute_result"
    }
   ],
   "source": [
    "# asagidaki listeden sozluk olusturacagiz. Bunun icin adimlari takip edin. Sozlukteki tum sehirler icin degerler 0 olacak.\n",
    "liste = ['aydin','istanbul','ankara', 'bingol', 'rize', 'mus']\n",
    "\n",
    "# 1.Bos bir sozluk olusturun\n",
    "dicitonary = {}\n",
    "\n",
    "# 2.liste uzerinde bir dongu kurun\n",
    "for city in liste:\n",
    "    if(len(city)> 5):\n",
    "        dicitonary[city] = 0\n",
    "    else:\n",
    "        print(f'{city} nin uzunlugu 5 ten kucuk yazdirin')   \n",
    "\n",
    "dicitonary         \n",
    "# 3.listedeki sehir uzunlugu 5 ten buyukse kosulu yazin. 5 ten buyukse sozluge anahtar olarak sehir adini deger olarak da 0 degerini ekleyin. \n",
    "\n",
    "# 4.listedeki sehrin uzunlugu 5 ten buyuk degilse (else) bu sehir uzunlugu 5 ten kucuk yazdirin\n",
    "\n",
    "# 5. Dongu bitince Sozlugu yazdirin\n"
   ]
  },
  {
   "cell_type": "code",
   "execution_count": 7,
   "metadata": {},
   "outputs": [
    {
     "data": {
      "text/plain": [
       "{'istanbul': 34, 'ankara': 6, 'bingol': 12}"
      ]
     },
     "execution_count": 7,
     "metadata": {},
     "output_type": "execute_result"
    }
   ],
   "source": [
    "# Yukarida olusturdugunuz sozluk icin degerleri su sekilde guncelleyin\n",
    "# istanbul - 34 olacak, ankara - 06 olacak, bingol - 12 olacak\n",
    "# bitince sozlugu tekrar yazdirin\n",
    "dicitonary[\"istanbul\"]=34\n",
    "dicitonary[\"ankara\"]= 6\n",
    "dicitonary[\"bingol\"]=12\n",
    "dicitonary\n"
   ]
  },
  {
   "cell_type": "code",
   "execution_count": null,
   "metadata": {},
   "outputs": [],
   "source": [
    "# yukarida guncellenen sozlukteki her bir eleman icin bir for dongusu kurun (isim in sozluk)\n",
    "\n",
    "# kullaniciya su soruyu sorun. <sehir adi> icin deger <sehirin degeri>. Onayliyorsaniz e, onaylamiyorsaniz yeni degeri girin\n",
    "\n",
    "# kullanicinin girdigi degeri kosula bagli kontrol edin, eger e girdiyse sonrakine gecin (continue)\n",
    "\n",
    "# eger kullanici e disinda bir deger girdiyse sozlukteki sehir adinin degerini kullanicinin girdigi yeni deger ile guncelleyin. (yeni deger string olabilir sorun degil)\n",
    "\n",
    "# sozlugun son halini yazdirin\n"
   ]
  },
  {
   "cell_type": "code",
   "execution_count": 5,
   "metadata": {},
   "outputs": [],
   "source": [
    "# kullanıcıdan bir kitap ismi alın ve bu kitabın yazarını sözlükten arayarak yazdırın. \n",
    "# Eğer kitap sözlükte yoksa, \"Kitap bulunamadı\" mesajını gösterin.\n",
    "# Eger kitap sozlukte ise kitabin yazarinin adini yazdirin\n",
    "kitap_kutuphanesi = {\n",
    "    \"Yüzüklerin Efendisi\": \"J.R.R. Tolkien\",\n",
    "    \"Harry Potter\": \"J.K. Rowling\",\n",
    "    \"Taht Oyunları\": \"George R.R. Martin\"\n",
    "}\n"
   ]
  },
  {
   "cell_type": "code",
   "execution_count": null,
   "metadata": {},
   "outputs": [],
   "source": [
    "# kullanıcıya telefon rehberinden kimi güncellemek istediğini sorun. bu kişi listede yoksa kişi bulunamadı diye yazdırın.\n",
    "# Kişi bulunursa yeni numarasını sorun. yeni numaranın uzunluğunun 5 olduğunu ve bir sayı olduğunu teyit ettikten sonra güncelleyin\n",
    "telefon_rehberi = {\n",
    "    \"Ahmet\": \"12345\",\n",
    "    \"Ayşe\": \"23456\",\n",
    "    \"Mehmet\": \"34567\"\n",
    "}"
   ]
  }
 ],
 "metadata": {
  "kernelspec": {
   "display_name": "Python 3",
   "language": "python",
   "name": "python3"
  },
  "language_info": {
   "codemirror_mode": {
    "name": "ipython",
    "version": 3
   },
   "file_extension": ".py",
   "mimetype": "text/x-python",
   "name": "python",
   "nbconvert_exporter": "python",
   "pygments_lexer": "ipython3",
   "version": "3.12.0"
  }
 },
 "nbformat": 4,
 "nbformat_minor": 2
}
