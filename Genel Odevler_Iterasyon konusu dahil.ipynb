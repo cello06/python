{
 "cells": [
  {
   "cell_type": "code",
   "execution_count": 2,
   "metadata": {},
   "outputs": [
    {
     "data": {
      "text/plain": [
       "'MERHABA, Phton!'"
      ]
     },
     "execution_count": 2,
     "metadata": {},
     "output_type": "execute_result"
    }
   ],
   "source": [
    "# Bir metin olan \"Merhaba, dünya!\" ifadesindeki tüm harfleri büyük harfe çevirin ve 'dünya' kelimesini 'Python' ile değiştirin.\n",
    "expression = \"Merhaba, dünya!\"\n",
    "expression = expression.upper().replace(\"DÜNYA\",\"Phyton\")\n",
    "expression\n"
   ]
  },
  {
   "cell_type": "code",
   "execution_count": 3,
   "metadata": {},
   "outputs": [
    {
     "data": {
      "text/plain": [
       "'Phyton çok güzel!Phyton çok güzel!Phyton çok güzel!'"
      ]
     },
     "execution_count": 3,
     "metadata": {},
     "output_type": "execute_result"
    }
   ],
   "source": [
    "# İki string \"Python\" ve \"çok güzel!\"'i aralarında boşluk olacak şekilde birleştirin ve oluşan yeni stringi 3 kere çoğaltıp yazdırın.\n",
    "first_string = \"Phyton\"\n",
    "second_string = \"çok güzel!\"\n",
    "new_string = first_string +\" \"+ second_string\n",
    "new_string = new_string*3\n",
    "new_string\n"
   ]
  },
  {
   "cell_type": "code",
   "execution_count": 6,
   "metadata": {},
   "outputs": [
    {
     "name": "stdout",
     "output_type": "stream",
     "text": [
      "Meyve sepette mevcut\n"
     ]
    }
   ],
   "source": [
    "# kullanıcıdan bir meyve adı isteyin aşağıdaki meyve sepetinde meyve varsa \"Meyve sepette mevcut yazdırın\" eğer meyve yoksa sepete ilave edin.\n",
    "fruit = input(\"Fruit name:\")\n",
    "meyve_sepeti = 'elma, muz, çilek, üzüm, erik'\n",
    "if fruit.lower() in meyve_sepeti:\n",
    "    print(\"Meyve sepette mevcut\")\n",
    "else:\n",
    "    meyve_sepeti += fruit.lower()\n",
    "    print(\"Meyve sepete eklendi\")    "
   ]
  },
  {
   "cell_type": "code",
   "execution_count": 7,
   "metadata": {},
   "outputs": [
    {
     "name": "stdout",
     "output_type": "stream",
     "text": [
      "Benim adım cello ve yaşım 14\n"
     ]
    }
   ],
   "source": [
    "# Bir isim ve yaş değişkeni oluşturun (örneğin, isim = \"Ali\" ve yas = 30). \n",
    "# kullanıcından bilgi alarak isim ve yaş değişkenlerine atayın\n",
    "# f-String kullanarak \"Benim adım kullanıcının_adı ve yaşım kullanıcının_yaşı\" şeklinde bir cümle oluşturun\n",
    "name = input(\"Name : \")\n",
    "age = input(\"Age : \")\n",
    "print(f'Benim adım {name} ve yaşım {age}')"
   ]
  },
  {
   "cell_type": "code",
   "execution_count": 18,
   "metadata": {},
   "outputs": [
    {
     "data": {
      "text/plain": [
       "'MERHABA Python dünyasına hoş geldiniz!'"
      ]
     },
     "execution_count": 18,
     "metadata": {},
     "output_type": "execute_result"
    }
   ],
   "source": [
    "# aşağıdaki metin cümlesinin kelimelerini aralarındaki boşluktan ayırarak bir liste haline getirin.\n",
    "# listedeki ilk elemanı (\"Merhaba,\") başka bir değişkene atayın. bu değişkendeki virgül işaretini silin ve tüm harflerini büyük harf yapın\n",
    "# kelimenin yeni halini (\"MERHABA\") listedeki eski halinin yerine atayın.\n",
    "# listeyi tekrar kelimelerin aralarında boşluk olacak şekilde birleştirip string haline getirin.\n",
    "metin = \"Merhaba, Python dünyasına hoş geldiniz!\"\n",
    "our_list = metin.split()\n",
    "our_list[0] = our_list[0].removesuffix(\",\").upper()\n",
    "metin = \" \".join(our_list)\n",
    "metin\n"
   ]
  },
  {
   "cell_type": "code",
   "execution_count": 29,
   "metadata": {},
   "outputs": [
    {
     "name": "stdout",
     "output_type": "stream",
     "text": [
      "BUGÜN HAVA\n",
      "There are 6 \"i\" in metin\n",
      "!nüG\n"
     ]
    }
   ],
   "source": [
    "# cümlenin tüm kelimelerinin ilk harfini büyük yapın\n",
    "# Cümlenin ilk 10 karakterini alın ve bu kısmı bir değişkene atayın.\n",
    "# Bu kısmı büyük harfe çevirin.\n",
    "# Cümlenin tamamında kaç kez 'i' harfi geçtiğini sayın.\n",
    "# Cümlenin son 4 karakterini alın ve bu kısmı ters çevirerek yazdırın.\n",
    "metin = \"Bugün hava çok güzel, piknik yapmak için ideal bir gün!\".title()\n",
    "new_metin = metin[:10].upper()\n",
    "print(new_metin)\n",
    "number_of_i = metin.lower().count(\"i\")\n",
    "print(f'There are {number_of_i} \"i\" in metin')\n",
    "last_four_characters = metin[-4:][::-1]\n",
    "print(last_four_characters)\n"
   ]
  },
  {
   "cell_type": "code",
   "execution_count": 31,
   "metadata": {},
   "outputs": [
    {
     "name": "stdout",
     "output_type": "stream",
     "text": [
      "Result is :  4.0 \n",
      "\n",
      "Type of result is :  <class 'float'>\n"
     ]
    }
   ],
   "source": [
    "# aşağıdaki değikenlerden büyük olanı küçük olana bölün ve sonucun hangi veri türünde olduğunu yazdırın\n",
    "a = 8\n",
    "b = 2\n",
    "result = max(a,b) / min(a,b)\n",
    "print(f'Result is :  {result} \\n\\nType of result is :  {type(result)}')\n"
   ]
  },
  {
   "cell_type": "code",
   "execution_count": 35,
   "metadata": {},
   "outputs": [
    {
     "name": "stdout",
     "output_type": "stream",
     "text": [
      "Sayı : 3.14159\n",
      "Yuvarlanmış sayı : 3.14\n",
      "Sayının int hali : 3 \n",
      "Type--> <class 'int'>\n"
     ]
    }
   ],
   "source": [
    "# Aşağıdaki sayıyı 2 basamağa yuvarlayın ve yazdırın\n",
    "# sonra integer haline getirip yazdırın\n",
    "sayi = 3.14159\n",
    "print(f'Sayı : {sayi}')\n",
    "yuvarlanmış_sayı = round(sayi,2)\n",
    "print(f'Yuvarlanmış sayı : {yuvarlanmış_sayı}')\n",
    "\n",
    "int_hali = int(yuvarlanmış_sayı)\n",
    "print(f'Sayının int hali : {int_hali} \\nType--> {type(int_hali)}')"
   ]
  },
  {
   "cell_type": "code",
   "execution_count": 36,
   "metadata": {},
   "outputs": [
    {
     "name": "stdout",
     "output_type": "stream",
     "text": [
      "Maximum Number --> 82\n",
      "Minimum Number --> -87\n",
      "Total biggest value number is 87\n"
     ]
    }
   ],
   "source": [
    "# Aşağıdaki sayı listesinde en büyük ve en küçük sayıları python fonksiyonları ile bulun yazdırın (döngü kullanmadan)\n",
    "# sonra döngü kullanarak tüm sayıların mutlak değerlerini karşılaştırın ve en büyük sayıyı bulup yazdırın\n",
    "sayilar = [14, -46, 65, 5, -3, 82, -87, 71]\n",
    "max_number = max(sayilar)\n",
    "min_number = min(sayilar)\n",
    "print(f'Maximum Number --> {max_number}\\nMinimum Number --> {min_number}')\n",
    "for number in sayilar:\n",
    "    if abs(number) > max_number:\n",
    "        max_number = abs(number)\n",
    "print(f'Total biggest value number is {max_number}') \n"
   ]
  },
  {
   "cell_type": "code",
   "execution_count": 37,
   "metadata": {},
   "outputs": [
    {
     "name": "stdout",
     "output_type": "stream",
     "text": [
      "87987987987987\n"
     ]
    }
   ],
   "source": [
    "# kullanıcıdan bir sayı girmesini isteyin. \n",
    "# girilen metindeki sayı olmayan karakterleri ayıklayın\n",
    "# kullanıcının girdiği metindeki rakam harici karakterleri ayıkladıktan sonra, kalan rakamları yanyana getirip sayıya çevirin ve yazdırın\n",
    "user_input = input(\"Enter a number\")\n",
    "\n",
    "clean_text = \"\".join(char for char in user_input if char.isdigit())\n",
    "number = int(clean_text)\n",
    "print(number)"
   ]
  },
  {
   "cell_type": "code",
   "execution_count": 38,
   "metadata": {},
   "outputs": [
    {
     "name": "stdout",
     "output_type": "stream",
     "text": [
      "Dışarı çıkmak için uygun değil, yağmur yağıyor.\n"
     ]
    }
   ],
   "source": [
    "# aşağıda yağmur sıcaklık ve rüzgar bilgileri gösterilmektedir.\n",
    "# eğer yağmur yağıyorsa \"Dışarı çıkmak için uygun değil, yağmur yağıyor.\", \n",
    "# eğer sıcaklık 15 derece altında ve rüzgar 20 km/sa üzerindeyse \"Dışarı çıkmak için uygun değil, hava soğuk ve rüzgarlı.\"\n",
    "# diğer durumlarda \"Dışarı çıkmak için güzel bir gün!\" ifadelerini ekrana yazdıran bir koşullu ifade kodlaması yazın\n",
    "\n",
    "yagmur = True  # Yağmur durumunu kontrol edin\n",
    "sicaklik = 25  # Sıcaklık değerini girin\n",
    "ruzgar = 25    # Rüzgar hızını girin\n",
    "if(yagmur or (sicaklik < 15 and ruzgar > 20)):\n",
    "    if(yagmur):\n",
    "        print(\"Dışarı çıkmak için uygun değil, yağmur yağıyor.\")\n",
    "    if(sicaklik < 15 and ruzgar > 20):\n",
    "        print(\"Dışarı çıkmak için uygun değil, hava soğuk ve rüzgarlı.\")\n",
    "else:\n",
    "    print(\"Dışarı çıkmak için güzel bir gün!\")           \n"
   ]
  },
  {
   "cell_type": "code",
   "execution_count": 39,
   "metadata": {},
   "outputs": [
    {
     "name": "stdout",
     "output_type": "stream",
     "text": [
      "Yeni kitap alamazsınız.\n"
     ]
    }
   ],
   "source": [
    "# Bir kütüphane için basit bir kitap ödünç verme sistemi yazın. \n",
    "# Eğer üyenin ceza puanı 3 ün üstündeyse üyenin kütüphaneden ödünç alabileceği maksimum kitap sayısı 3, 3 ün altındaysa ödünç alabileceği maksimum kitap sayısı 1 dir\n",
    "# Eğer üyelik süresi (uyelik_suresi) 1 yıldan fazlaysa ödünç alabileceği maksimum kitap sayısını 1 artırın\n",
    "# Eğer bir üyedeki kitap sayısı bu şartlar sonunda belirlenen maksimum kitap sayısının altındaysa yeni kitap alabilir yazdırın, değilse yeni kitap alamaz yazdırın\n",
    "kitap_sayisi = 2     # Mevcut ödünç alınan kitap sayısını girin\n",
    "uyelik_suresi = 2    # Üyelik süresini yıl olarak girin\n",
    "ceza_puani = 1       # Mevcut ceza puanını girin\n",
    "if ceza_puani >= 3:\n",
    "    max_kitap_sayisi = 3\n",
    "else:\n",
    "    max_kitap_sayisi = 1\n",
    "\n",
    "# Üyelik süresi 1 yıldan fazlaysa maksimum kitap sayısını 1 artır\n",
    "if uyelik_suresi > 1:\n",
    "    max_kitap_sayisi += 1\n",
    "\n",
    "# Eğer üye mevcut şartlar altında yeni kitap alabilirse\n",
    "if kitap_sayisi < max_kitap_sayisi:\n",
    "    print(\"Yeni kitap alabilirsiniz.\")\n",
    "else:\n",
    "    print(\"Yeni kitap alamazsınız.\")\n"
   ]
  },
  {
   "cell_type": "code",
   "execution_count": 40,
   "metadata": {},
   "outputs": [
    {
     "name": "stdout",
     "output_type": "stream",
     "text": [
      "1\n"
     ]
    }
   ],
   "source": [
    "# Bir liste olan [1, 2, 3, 4, 5, 6, 7, 8, 9, 10] içinden ilk 5 elemanı alın ve bu elemanların sırasını tersine çevirin. \n",
    "# Ardından, tese çevirdiğiniz bu listenin son elemanını yazdırın.\n",
    "liste = [1, 2, 3, 4, 5, 6, 7, 8, 9, 10]\n",
    "result = liste[:5][::-1][-1]\n",
    "print(result)"
   ]
  },
  {
   "cell_type": "code",
   "execution_count": 52,
   "metadata": {},
   "outputs": [
    {
     "data": {
      "text/plain": [
       "['kahve', 'muz', 'portakal']"
      ]
     },
     "execution_count": 52,
     "metadata": {},
     "output_type": "execute_result"
    }
   ],
   "source": [
    "# Bir alışveriş listesi oluşturun ve bu listeye birkaç eleman ekleyin. \n",
    "# Daha sonra, listenin son elemanını silin ve silinen elemani yazdirin\n",
    "# listenin başına yeni bir eleman ekleyin.\n",
    "# listeyi alfabetik olarak sıralayıp son durumu yazdırın.\n",
    "alisveris_listesi = [\"muz\", \"portakal\", \"soğan\"]\n",
    "silinen_eleman = alisveris_listesi.pop()\n",
    "alisveris_listesi.insert(0,\"kahve\")\n",
    "alisveris_listesi.sort()\n",
    "alisveris_listesi\n"
   ]
  },
  {
   "cell_type": "code",
   "execution_count": 54,
   "metadata": {},
   "outputs": [
    {
     "name": "stdout",
     "output_type": "stream",
     "text": [
      "list_a ---> [1, 2, 3, 4, 5, 6, 7, 8, 12]\n",
      "list_b ---> [1, 2, 3, 4, 5, 6, 7, 8, 12]\n",
      "list_c ---> [1, 2, 3, 4, 5, 6, 7, 8]\n"
     ]
    }
   ],
   "source": [
    "# Bir liste oluşturun. bu listeyi 2 şekilde kopyalayın. ilkinde a = b şeklinde, ikincisinde ise copy() metoduyla kopyalayın. \n",
    "# Kopyalanan listede (a listesinde) birkaç değişiklik yapın ve her üç listenin son durumunu yazdırarak, kopyalanan diğer iki listenin değişimini inceleyin.\n",
    "list_a = [1,2,3,4,5,6,7,8]\n",
    "list_b = list_a\n",
    "list_c = list_a.copy()\n",
    "list_a.append(12)\n",
    "print(f'list_a ---> {list_a}\\nlist_b ---> {list_b}\\nlist_c ---> {list_c}')\n"
   ]
  },
  {
   "cell_type": "code",
   "execution_count": 56,
   "metadata": {},
   "outputs": [
    {
     "name": "stdout",
     "output_type": "stream",
     "text": [
      "Length of old_list --> 9\n",
      "3\n",
      "Length of new_list --> 8\n"
     ]
    }
   ],
   "source": [
    "# Bir liste oluşturun ve bu listeden ikinci indeksteki elemanı bir  değişkene atayarak silin. silinen elemanı yazdırın\n",
    "# Ardından listenin yeni uzunluğunu yazdırın.\n",
    "list = [1,2,3,4,5,6,7,8,9]\n",
    "print(f'Length of old_list --> {len(list)}')\n",
    "elemant_in_second_index = list.pop(2)\n",
    "print(elemant_in_second_index)\n",
    "print(f'Length of new_list --> {len(list)}')"
   ]
  },
  {
   "cell_type": "code",
   "execution_count": 57,
   "metadata": {},
   "outputs": [
    {
     "data": {
      "text/plain": [
       "55"
      ]
     },
     "execution_count": 57,
     "metadata": {},
     "output_type": "execute_result"
    }
   ],
   "source": [
    "# 1'den 10'a kadar olan sayıları (10 dahil) kullanarak bir for döngüsü içinde bu sayıların toplamını hesaplayın ve sonucu yazdırın.\n",
    "total = sum(number for number in range(11))\n",
    "total"
   ]
  },
  {
   "cell_type": "code",
   "execution_count": 59,
   "metadata": {},
   "outputs": [
    {
     "name": "stdout",
     "output_type": "stream",
     "text": [
      "There is not '5' in our list\n"
     ]
    }
   ],
   "source": [
    "# Bir liste oluşturun ve bu listede bir for döngüsü kullanarak belirli bir değerin (örneğin, 5) olup olmadığını kontrol edin. \n",
    "# Değer bulunursa, bulunduğunu yazdırın.\n",
    "# Deger bulunamazsa bulunamadigini yazdirin\n",
    "liste = [1,2,3,4,6,7,8]\n",
    "aranan = 5\n",
    "condition = liste.count(5)\n",
    "if(condition):\n",
    "    print(\"There is '5' in our list\")\n",
    "else:\n",
    "    print(\"There is not '5' in our list\")"
   ]
  },
  {
   "cell_type": "code",
   "execution_count": 63,
   "metadata": {},
   "outputs": [
    {
     "name": "stdout",
     "output_type": "stream",
     "text": [
      "61655\n"
     ]
    }
   ],
   "source": [
    "# Kullanıcıdan sayı girmesini isteyin. Kullanıcı 0 girene kadar girilen sayıları toplayın ve sonucu yazdırın.\n",
    "sum = 0\n",
    "while(number != 0):\n",
    "    number = int(input(\"Enter a number :(if you want to finish enter '0')\"))\n",
    "    sum += number\n",
    "print(sum)    "
   ]
  },
  {
   "cell_type": "code",
   "execution_count": 66,
   "metadata": {},
   "outputs": [
    {
     "name": "stdout",
     "output_type": "stream",
     "text": [
      "Matematik not ortalaması : 18.0\n",
      "Tükrçe not ortalaması : 17.272727272727273\n",
      "Toplam not ortalaması : 17.272727272727273\n"
     ]
    }
   ],
   "source": [
    "# Bir öğrenciye ait ders notlarını ve bu notların kredi değerlerini alarak, not ortalamasını hesaplayan bir program yazın. \n",
    "# Program, kullanıcıdan ders adını, bu derse ait notu ve kredi değerini almalıdır. \n",
    "# Kullanıcı, hesaplama yapılmasını istediğinde (örneğin, 'hesapla' yazdığında) program, giriş yapılan derslerin ağırlıklı not ortalamasını hesaplayıp yazdırmalıdır.\n",
    "# Not: Not ortalaması, her bir dersin (not x kredi) değerlerinin toplamının, toplam krediye bölünmesiyle hesaplanır.\n",
    "toplam_not = 0\n",
    "toplam_kredi = 0\n",
    "\n",
    "\n",
    "while(True):    # sonsuz dongu kurun\n",
    "    ders_adi = input(\"Ders Adı : \")\n",
    "    \n",
    "    if ders_adi.lower() == 'hesapla':\n",
    "        # burda donguden cıkın\n",
    "        break\n",
    "\n",
    "    notu = float(input(\"Not Girin : \"))\n",
    "    kredi = float(input(\"Dersin Kredisini girin:\"))\n",
    "    print(f'{ders_adi} not ortalaması : {notu / kredi}')\n",
    "\n",
    "    toplam_not += notu             # notu * kredi eklenecek\n",
    "    toplam_kredi += kredi           # kredı eklenecek\n",
    "   \n",
    "if toplam_kredi > 0:\n",
    "    # toplan notun toplam kredıye oranı\n",
    "    print(f'Toplam not ortalaması : {toplam_not / toplam_kredi}')\n",
    "\n",
    "else:\n",
    "    print(\"Hiç ders girilmedi.\")\n"
   ]
  }
 ],
 "metadata": {
  "kernelspec": {
   "display_name": "Python 3",
   "language": "python",
   "name": "python3"
  },
  "language_info": {
   "codemirror_mode": {
    "name": "ipython",
    "version": 3
   },
   "file_extension": ".py",
   "mimetype": "text/x-python",
   "name": "python",
   "nbconvert_exporter": "python",
   "pygments_lexer": "ipython3",
   "version": "3.12.0"
  }
 },
 "nbformat": 4,
 "nbformat_minor": 2
}
