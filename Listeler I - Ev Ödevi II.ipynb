{
 "cells": [
  {
   "cell_type": "markdown",
   "metadata": {},
   "source": [
    "## LİSTELER I EV ÖDEVİ"
   ]
  },
  {
   "cell_type": "code",
   "execution_count": 3,
   "metadata": {},
   "outputs": [
    {
     "name": "stdout",
     "output_type": "stream",
     "text": [
      "['elma', 'muz', 'çilek']\n"
     ]
    }
   ],
   "source": [
    "# Verilen bir listeden ilk üç elemanı dilimleyerek yeni bir liste oluşturun.\n",
    "listem = ['elma', 'muz', 'çilek', 'kivi', 'armut']\n",
    "new_list = listem[:3]\n",
    "print(new_list)"
   ]
  },
  {
   "cell_type": "code",
   "execution_count": 5,
   "metadata": {},
   "outputs": [
    {
     "data": {
      "text/plain": [
       "['Ruby', 'C++', 'Java', 'Python']"
      ]
     },
     "execution_count": 5,
     "metadata": {},
     "output_type": "execute_result"
    }
   ],
   "source": [
    "# aşağıdaki lisyeyi ters çevirerek yeni bir liste oluşturun\n",
    "listem = ['Python', 'Java', 'C++', 'Ruby']\n",
    "new_list = listem[::-1]\n",
    "new_list"
   ]
  },
  {
   "cell_type": "code",
   "execution_count": 6,
   "metadata": {},
   "outputs": [
    {
     "data": {
      "text/plain": [
       "['beş', 'uç', 'bir']"
      ]
     },
     "execution_count": 6,
     "metadata": {},
     "output_type": "execute_result"
    }
   ],
   "source": [
    "# aşağıdaki listeden sadece tek sayılı indekslere sahip elemanları (yani 'bir', 'üç', 'beş' gibi) seçerek yeni bir liste oluşturun.\n",
    "# sonra bu yeni listeyi kendi içinde tersten sıralayın. (Dikkat sıralama yapılacak)\n",
    "listem = ['sıfır', 'bir', 'iki', 'uç', 'dört', 'beş']\n",
    "new_list = listem[1::2]\n",
    "very_new_list = new_list[::-1]\n",
    "very_new_list"
   ]
  },
  {
   "cell_type": "code",
   "execution_count": 7,
   "metadata": {},
   "outputs": [
    {
     "name": "stdout",
     "output_type": "stream",
     "text": [
      "['kalem', 'sıfır', 'bir', 'iki', 'uç', 'silgi']\n"
     ]
    }
   ],
   "source": [
    "# aşağıdaki listenin son iki elemanını hariç tutarak kalanları yeni bir liste olarak oluşturun.\n",
    "# yeni listenin [1:3] indekleri yerine ['sıfır', 'bir', 'iki', 'uç'] listesini yerleştirin ve yazdırın\n",
    "listem = ['kalem', 'kitap', 'defter', 'silgi', 'çanta', 'masa']\n",
    "new_list = listem[:-2]\n",
    "new_list[1:3] = ['sıfır','bir','iki','uç']\n",
    "print(new_list)"
   ]
  },
  {
   "cell_type": "code",
   "execution_count": 10,
   "metadata": {},
   "outputs": [
    {
     "name": "stdout",
     "output_type": "stream",
     "text": [
      "['c', 'e', 'l']\n"
     ]
    }
   ],
   "source": [
    "# kendi adınızı bir string olarak isim değişkenine atayın.\n",
    "# isim değişkenini listeye çevirin\n",
    "# isminizin uzunluğu 5 ten büyükse terse çevirecek, 5 ten küçükse son iki elemanını sildirecek bir kod yazın (if ifadesini kullanacaksınız)\n",
    "name = 'celalettin'\n",
    "name = list(name)\n",
    "if len(name) > 5:\n",
    "    name = name[::-1]\n",
    "else :\n",
    "    name = name[:-2]\n",
    "\n",
    "print(name)"
   ]
  }
 ],
 "metadata": {
  "kernelspec": {
   "display_name": "Python 3",
   "language": "python",
   "name": "python3"
  },
  "language_info": {
   "codemirror_mode": {
    "name": "ipython",
    "version": 3
   },
   "file_extension": ".py",
   "mimetype": "text/x-python",
   "name": "python",
   "nbconvert_exporter": "python",
   "pygments_lexer": "ipython3",
   "version": "3.12.0"
  }
 },
 "nbformat": 4,
 "nbformat_minor": 2
}
