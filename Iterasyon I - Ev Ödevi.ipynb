{
 "cells": [
  {
   "cell_type": "markdown",
   "metadata": {},
   "source": [
    "## ITERASYON I EV ÖDEVİ"
   ]
  },
  {
   "cell_type": "code",
   "execution_count": 2,
   "metadata": {},
   "outputs": [
    {
     "name": "stdout",
     "output_type": "stream",
     "text": [
      "[2, 4, 6, 8, 10, 12, 14, 16, 18, 20]\n"
     ]
    }
   ],
   "source": [
    "# 1'den 20'ye kadar olan çift sayıları bir liste içinde toplayın ve bu listeyi ekrana yazdırın.\n",
    "# For döngüsü ile\n",
    "sayilar = [1, 2, 3, 4, 5, 6, 7, 8, 9, 10, 11, 12, 13, 14, 15, 16, 17, 18, 19, 20]\n",
    "cift_sayi_listesi = []\n",
    "for sayi in sayilar:\n",
    "    if sayi % 2 == 0 :\n",
    "        cift_sayi_listesi.append(sayi)\n",
    "\n",
    "print(cift_sayi_listesi)    "
   ]
  },
  {
   "cell_type": "code",
   "execution_count": 4,
   "metadata": {},
   "outputs": [
    {
     "name": "stdout",
     "output_type": "stream",
     "text": [
      "[2, 4, 6, 8, 10, 12, 14, 16, 18, 20]\n"
     ]
    }
   ],
   "source": [
    "# 1'den 20'ye kadar olan çift sayıları bir liste içinde toplayın ve bu listeyi ekrana yazdırın.\n",
    "# while döngüsü ile\n",
    "sayi = 1\n",
    "cift_sayi_listesi = []\n",
    "while sayi <=20:\n",
    "    if(sayi % 2 == 0):\n",
    "        cift_sayi_listesi.append(sayi)\n",
    "    sayi += 1    \n",
    "\n",
    "print(cift_sayi_listesi)"
   ]
  },
  {
   "cell_type": "code",
   "execution_count": 5,
   "metadata": {},
   "outputs": [
    {
     "name": "stdout",
     "output_type": "stream",
     "text": [
      "en büyük sayi : 111\n"
     ]
    }
   ],
   "source": [
    "# Verilen bir listedeki en buyuk degeri bulun. max fonksiyonu kullanilmayacak\n",
    "sayilar = [13, 45, 111, 98, 32, 49, 84]\n",
    "en_buyuk = 0\n",
    "for sayi in sayilar:\n",
    "    if(sayi > en_buyuk):\n",
    "        en_buyuk = sayi\n",
    "\n",
    "print(f'en büyük sayi : {en_buyuk}')"
   ]
  },
  {
   "cell_type": "code",
   "execution_count": 2,
   "metadata": {},
   "outputs": [
    {
     "name": "stdout",
     "output_type": "stream",
     "text": [
      "Try Again!\n",
      "You have already enter 12 !\n",
      "Try Again!\n",
      "You found it congratulations!! it was 8\n"
     ]
    }
   ],
   "source": [
    "# 1-10 arasi bir sayi belirleyin. Kullanicidan bu sayiyi bilmesini isteyin \n",
    "# kullanici sayiyi bilirse oyunu bitirin (break)\n",
    "# kullanici sayiyi bilene kadar sormaya devam edin (sonsuz dongu)\n",
    "condition = True\n",
    "my_number = 8\n",
    "userNumbers = []\n",
    "while condition :\n",
    "    user_number = input(\"Predict my number (1-11)\")\n",
    "    if(user_number.isdigit()):\n",
    "        user_number = int(user_number)\n",
    "        if(user_number == my_number):\n",
    "            print(f\"You found it congratulations!! it was {user_number}\")\n",
    "            condition = False\n",
    "        else:\n",
    "            if(user_number in userNumbers):\n",
    "                print(f\"You have already enter {user_number} !\")\n",
    "            else:\n",
    "                userNumbers.append(user_number)\n",
    "            print(\"Try Again!\")\n",
    "    else:\n",
    "        print(\"You must enter a digit!\")                "
   ]
  },
  {
   "cell_type": "code",
   "execution_count": 7,
   "metadata": {},
   "outputs": [
    {
     "name": "stdout",
     "output_type": "stream",
     "text": [
      "Number : 10\n",
      "Number : 15\n",
      "Number : 20\n",
      "Number : 25\n",
      "Number : 30\n",
      "Number : 35\n",
      "Number : 40\n",
      "Number : 45\n",
      "Number : 50\n",
      "Number : 55\n",
      "Number : 60\n",
      "Number : 65\n",
      "Number : 70\n",
      "Number : 75\n",
      "You enter sth wrong! We cotinue iteration!\n",
      "Number : 80\n",
      "Number : 85\n",
      "Number : 90\n",
      "Number : 95\n",
      "Number : 100\n",
      "You enter sth wrong! We cotinue iteration!\n",
      "Number : 105\n",
      "Number : 110\n",
      "Number : 115\n",
      "Number : 120\n",
      "Number : 125\n"
     ]
    }
   ],
   "source": [
    "# sonsuz bir dongu olusturun.\n",
    "# bu dongu 5 den baslayarak devamli olarak 5 artisla sayi yazdirsin \n",
    "# 25 ve katlarina gelince kullaniciya devam mi diye sorsun ve devam denildigi surece artirmaya devam etsin\n",
    "# kullanici tamam derse donguyu bitirsin\n",
    "number = 5\n",
    "while True :\n",
    "    number += 5\n",
    "    print(\"Number : \" + str(number))\n",
    "    \n",
    "    if(number % 25 == 0):\n",
    "        condition = input(\"Continue : yes\\nStop : no\")\n",
    "        condition = condition.lower()\n",
    "        if(condition == \"no\"):\n",
    "            break\n",
    "        elif(condition == \"yes\"):\n",
    "            continue\n",
    "        else:\n",
    "            print(\"You enter sth wrong! We cotinue iteration!\")"
   ]
  },
  {
   "cell_type": "code",
   "execution_count": 8,
   "metadata": {},
   "outputs": [
    {
     "name": "stdout",
     "output_type": "stream",
     "text": [
      "eaieaa\n"
     ]
    }
   ],
   "source": [
    "# aşağıdaki cümle içerisinde geçen sesli harfleri bulunuz\n",
    "# bulduğunuz harf daha önce de cümlede yer almışsa, dikkate almayınız (if harf in sesli_harfler -> continue else sesli harflere ekle)\n",
    "cumle = 'selam size dünyalılar'\n",
    "sesli_harfler = ''\n",
    "for letter in cumle:\n",
    "    if letter in 'aeiuo':\n",
    "        sesli_harfler += letter\n",
    "\n",
    "print(sesli_harfler)"
   ]
  }
 ],
 "metadata": {
  "kernelspec": {
   "display_name": "Python 3",
   "language": "python",
   "name": "python3"
  },
  "language_info": {
   "codemirror_mode": {
    "name": "ipython",
    "version": 3
   },
   "file_extension": ".py",
   "mimetype": "text/x-python",
   "name": "python",
   "nbconvert_exporter": "python",
   "pygments_lexer": "ipython3",
   "version": "3.12.0"
  }
 },
 "nbformat": 4,
 "nbformat_minor": 2
}
