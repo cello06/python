{
 "cells": [
  {
   "cell_type": "markdown",
   "metadata": {},
   "source": [
    "## LİSTELER I EV ÖDEVİ"
   ]
  },
  {
   "cell_type": "code",
   "execution_count": 14,
   "metadata": {},
   "outputs": [],
   "source": [
    "# Farkli 2 yontem kullanarak iki tane boş liste oluşturun\n",
    "list1 = []\n",
    "list2 = list()"
   ]
  },
  {
   "cell_type": "code",
   "execution_count": 15,
   "metadata": {},
   "outputs": [
    {
     "data": {
      "text/plain": [
       "([1, 'asc'], [34, 'fert'])"
      ]
     },
     "execution_count": 15,
     "metadata": {},
     "output_type": "execute_result"
    }
   ],
   "source": [
    "# Her iki listeye de 1 tane sayı ve 1 tane metinden olusan farklı elemanlar ekleyin (append)\n",
    "list1.append(1)\n",
    "list1.append('asc')\n",
    "list2.append(34)\n",
    "list2.append('fert')\n",
    "list1, list2"
   ]
  },
  {
   "cell_type": "code",
   "execution_count": 16,
   "metadata": {},
   "outputs": [
    {
     "name": "stdout",
     "output_type": "stream",
     "text": [
      "[34, 'fert']\n"
     ]
    },
    {
     "data": {
      "text/plain": [
       "[34, 'fert', 1]"
      ]
     },
     "execution_count": 16,
     "metadata": {},
     "output_type": "execute_result"
    }
   ],
   "source": [
    "# ikinci listenin 2nci indeksine birinci listenin ilk indeksindeki elemanı ekleyin (insert)\n",
    "print(list2)\n",
    "list2.insert(len(list2),list1[0])\n",
    "list2"
   ]
  },
  {
   "cell_type": "code",
   "execution_count": 17,
   "metadata": {},
   "outputs": [
    {
     "data": {
      "text/plain": [
       "([1], ['asc', 34, 'fert', 1])"
      ]
     },
     "execution_count": 17,
     "metadata": {},
     "output_type": "execute_result"
    }
   ],
   "source": [
    "# birinci listenin son elemanını silin ve bu elemanı ikinci listenin en başına yerlerştirin\n",
    "removed = list1.pop()\n",
    "list2.insert(0, removed)\n",
    "list1, list2"
   ]
  },
  {
   "cell_type": "code",
   "execution_count": 18,
   "metadata": {},
   "outputs": [],
   "source": [
    "# birinci listeyi tamamen silin\n",
    "del list1"
   ]
  },
  {
   "cell_type": "code",
   "execution_count": 19,
   "metadata": {},
   "outputs": [
    {
     "data": {
      "text/plain": [
       "['asc', 'armut', 'fert', 1]"
      ]
     },
     "execution_count": 19,
     "metadata": {},
     "output_type": "execute_result"
    }
   ],
   "source": [
    "# ikinci listenin ikinci elemanını \"armut\" yapın\n",
    "list2[1] = 'armut'\n",
    "list2"
   ]
  },
  {
   "cell_type": "code",
   "execution_count": 24,
   "metadata": {},
   "outputs": [
    {
     "name": "stdout",
     "output_type": "stream",
     "text": [
      "You did not enter a word\n"
     ]
    }
   ],
   "source": [
    "# kullanıcıdan bir kelime girmesini isteyin. \n",
    "# eger bir kelime girilmiş ise, bu kelimeyi listeye çevirin ve listenin sonuncu elemanıni yazdırın\n",
    "# eger kelime girilmemisse, ekrana kelime girilmedi yazdirin.\n",
    "word = input(\"Please enter a word :\")\n",
    "if(word.isalpha()):\n",
    "    new_list = list(word)\n",
    "    #print(new_list)\n",
    "    print(new_list[-1])\n",
    "else :\n",
    "    print(\"You did not enter a word\")    \n"
   ]
  },
  {
   "cell_type": "code",
   "execution_count": 30,
   "metadata": {},
   "outputs": [
    {
     "name": "stdout",
     "output_type": "stream",
     "text": [
      "Biggest : 91\n",
      "Smallest : -13\n",
      "[91, 90, 65, 38, 19, 17, 12, 9, 7, 4, -13]\n",
      "91<-- this is the biggest number\n",
      "-13<-- this is the smallest number\n"
     ]
    }
   ],
   "source": [
    "# aşağıdaki listenin en büyük ve en küçük rakamlarını bulup yazdırın (min, max)\n",
    "numbers = [12,4,17,65,90,19,91,7,9,-13,38]\n",
    "biggest = max(numbers)\n",
    "smallest = min(numbers)\n",
    "print(f'Biggest : {biggest}\\nSmallest : {smallest}')\n",
    "for i in range(len(numbers) -1) :\n",
    "    current_max = numbers[i]\n",
    "    index_max = i\n",
    "    for j in numbers[i+1:]:\n",
    "        if(current_max < j) :\n",
    "            current_max = j\n",
    "            index_max = numbers.index(j)\n",
    "\n",
    "    if(index_max != i):\n",
    "        numbers[index_max] = numbers[i]\n",
    "        numbers[i] =   current_max\n",
    "\n",
    "print(numbers)\n",
    "print(str(numbers[0]) + \"<-- this is the biggest number\")\n",
    "print(str(numbers[-1]) + \"<-- this is the smallest number\")"
   ]
  },
  {
   "cell_type": "code",
   "execution_count": 32,
   "metadata": {},
   "outputs": [
    {
     "name": "stdout",
     "output_type": "stream",
     "text": [
      "Before : Being human is very hard thing We hope that the one who creates us will help us\n",
      "After : human is very hard thing We hope that the one who creates us will help\n"
     ]
    }
   ],
   "source": [
    "# kullanicidan bir cümle girmesini isteyin\n",
    "# bu cümleyi kelime kelime listeye çevirin (split(' ') metodu ile)\n",
    "# olusturulan listedeki ilk ve son elemanlari silin\n",
    "# listeyi tekrardan bir cumleye cevirin (' '.join() metodu ile)\n",
    "sentence = input(\"Enter a sentence : \")\n",
    "print(f'Before : {sentence}')\n",
    "list_of_words = sentence.split(\" \")\n",
    "del list_of_words[0]\n",
    "list_of_words.pop(-1)\n",
    "sentence = \" \".join(list_of_words)\n",
    "print(f'After : {sentence}')"
   ]
  }
 ],
 "metadata": {
  "kernelspec": {
   "display_name": "Python 3",
   "language": "python",
   "name": "python3"
  },
  "language_info": {
   "codemirror_mode": {
    "name": "ipython",
    "version": 3
   },
   "file_extension": ".py",
   "mimetype": "text/x-python",
   "name": "python",
   "nbconvert_exporter": "python",
   "pygments_lexer": "ipython3",
   "version": "3.12.0"
  }
 },
 "nbformat": 4,
 "nbformat_minor": 2
}
