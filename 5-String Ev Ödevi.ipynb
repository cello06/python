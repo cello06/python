{
 "cells": [
  {
   "cell_type": "markdown",
   "metadata": {},
   "source": [
    "## String Genel Alistirmalar"
   ]
  },
  {
   "cell_type": "code",
   "execution_count": 1,
   "metadata": {},
   "outputs": [
    {
     "name": "stdout",
     "output_type": "stream",
     "text": [
      "6\n"
     ]
    }
   ],
   "source": [
    "# Bir cümlede kaç kelime olduğunu hesaplayın.\n",
    "metin = \"Bu cümledeki kac tane kelime vardir\"\n",
    "metin = metin.split(\" \")\n",
    "print(len(metin))\n"
   ]
  },
  {
   "cell_type": "code",
   "execution_count": 2,
   "metadata": {},
   "outputs": [
    {
     "data": {
      "text/plain": [
       "'Is the first letter of \"nonSpeak\" a vowel : False'"
      ]
     },
     "execution_count": 2,
     "metadata": {},
     "output_type": "execute_result"
    }
   ],
   "source": [
    "# Kullanicidan alinan bir kelimenin ilk harfinin sesli bir harf olup olmadığını kontrol edin\n",
    "# ipucu: sesli harflerden olusan 'aeiou' metnini kullanin, ilk indeksleme ile bulun. \n",
    "# icinde olup olmadigini 'in' ifadesiyle bulun (True/False)\n",
    "word = input(\"Enter a word : \")\n",
    "first_letter = word[0:1]\n",
    "vowels = \"aeiou\"\n",
    "f'Is the first letter of \"{word}\" a vowel : {first_letter in vowels}'\n"
   ]
  },
  {
   "cell_type": "code",
   "execution_count": 17,
   "metadata": {},
   "outputs": [
    {
     "name": "stdout",
     "output_type": "stream",
     "text": [
      "True\n",
      "True\n",
      "True\n"
     ]
    }
   ],
   "source": [
    "# Bir kelimenin palindrom olup olmadığını kontrol edin.\n",
    "# palindrom bir kelimenin tersten ve duzden yazinca ayni kelimenin cikmasidir. \n",
    "# Yani kelimenin tersini alinca yine ayni kelime cikacak.\n",
    "# DIKKAT: palindrom da buyuk kucuk harf duyarliligi olmaz. (kucuk harfe cevirerek kontrol etmek gerekir)\n",
    "metin1 = \"Kayak\"\n",
    "metin2 = \"KelleK\"\n",
    "metin3 = \"Ey Nihat Adana'da tahin ye\"\n",
    "\n",
    "#index_of_apostrophe = metin3.find(\"'\")\n",
    "#metin3 = metin3[:index_of_apostrophe] + metin3[index_of_apostrophe+1:]\n",
    "\n",
    "metin1_ters = metin1[::-1] \n",
    "metin2_ters = metin2[::-1]\n",
    "metin3_ters = metin3[::-1]\n",
    "\n",
    "print(metin1.lower() == metin1_ters.lower())  # Burasi sonuc verir\n",
    "print(metin2.lower() == metin2_ters.lower())  # Burasi sonuc verir\n",
    "print(metin3.lower() == metin3_ters.lower())  # Burasi sonuc verir"
   ]
  },
  {
   "cell_type": "code",
   "execution_count": 18,
   "metadata": {},
   "outputs": [
    {
     "name": "stdout",
     "output_type": "stream",
     "text": [
      "['Bu', 'cümle', 'tek', 'tek', 'kelimelere', 'ayrilacaktir']\n"
     ]
    }
   ],
   "source": [
    "# Verilen bir cümleyi kelime kelime ayırın\n",
    "cumle = \"Bu cümle tek tek kelimelere ayrilacaktir\"\n",
    "cumle = cumle.split(\" \")\n",
    "print(cumle)"
   ]
  },
  {
   "cell_type": "code",
   "execution_count": 19,
   "metadata": {},
   "outputs": [
    {
     "name": "stdout",
     "output_type": "stream",
     "text": [
      "Progr\n"
     ]
    }
   ],
   "source": [
    "# Verilen bir metin stringi içerisinden ilk 5 karakteri alın.\n",
    "kelime = \"Programlama\"\n",
    "first_five_character = kelime[:5]\n",
    "print(first_five_character)"
   ]
  },
  {
   "cell_type": "code",
   "execution_count": 21,
   "metadata": {},
   "outputs": [
    {
     "data": {
      "text/plain": [
       "'PYTHON'"
      ]
     },
     "execution_count": 21,
     "metadata": {},
     "output_type": "execute_result"
    }
   ],
   "source": [
    "# Verilen bir kelime stringindeki tüm harfleri büyük yapın\n",
    "kelime = \"Python\"\n",
    "kelime = kelime.upper()\n",
    "kelime"
   ]
  },
  {
   "cell_type": "code",
   "execution_count": 22,
   "metadata": {},
   "outputs": [
    {
     "name": "stdout",
     "output_type": "stream",
     "text": [
      "False\n"
     ]
    }
   ],
   "source": [
    "# Verilen bir cümle içerisinde \"python\" kelimesinin olup olmadığını kontrol edin\n",
    "metin = \"Bu bir Py thon programıdır\"\n",
    "print('Python' in metin)\n"
   ]
  },
  {
   "cell_type": "code",
   "execution_count": 24,
   "metadata": {},
   "outputs": [
    {
     "name": "stdout",
     "output_type": "stream",
     "text": [
      "True\n"
     ]
    }
   ],
   "source": [
    "# asagidaki cumlede once bosluklari silin, sonra kucuk harfe cevirin, \n",
    "# sonra 'python' olup olmadigini tekrar kontrol edin\n",
    "metin = \"Bu bir Py thon programıdır\"\n",
    "metin = metin.replace(\" \",\"\")\n",
    "print(\"Python\" in metin)"
   ]
  },
  {
   "cell_type": "code",
   "execution_count": 25,
   "metadata": {},
   "outputs": [
    {
     "data": {
      "text/plain": [
       "'Benim adım Ali Veli değil.'"
      ]
     },
     "execution_count": 25,
     "metadata": {},
     "output_type": "execute_result"
    }
   ],
   "source": [
    "# Verilen bir ad ve soyad stringini f-string kullanarak birleştirin. \n",
    "# \"Benim adim ..., soyadim ...\" haline getirin\n",
    "ad = \"Ali\"\n",
    "soyad = \"Veli\"\n",
    "f'Benim adım {ad} {soyad} değil.'"
   ]
  },
  {
   "cell_type": "code",
   "execution_count": 27,
   "metadata": {},
   "outputs": [
    {
     "data": {
      "text/plain": [
       "'merhaba python'"
      ]
     },
     "execution_count": 27,
     "metadata": {},
     "output_type": "execute_result"
    }
   ],
   "source": [
    "# Bir metin içerisindeki tüm harfleri küçük yapın.\n",
    "metin = \"MeRHaBA PyThoN\"\n",
    "metin = metin.lower()\n",
    "metin"
   ]
  },
  {
   "cell_type": "code",
   "execution_count": 28,
   "metadata": {},
   "outputs": [
    {
     "data": {
      "text/plain": [
       "'Merhaba'"
      ]
     },
     "execution_count": 28,
     "metadata": {},
     "output_type": "execute_result"
    }
   ],
   "source": [
    "# Verilen bir kelime stringinin sadece baş harfini büyük yapın.\n",
    "kelime = \"merhaba\"\n",
    "kelime = kelime.capitalize()\n",
    "kelime"
   ]
  },
  {
   "cell_type": "code",
   "execution_count": 30,
   "metadata": {},
   "outputs": [
    {
     "data": {
      "text/plain": [
       "'ama'"
      ]
     },
     "execution_count": 30,
     "metadata": {},
     "output_type": "execute_result"
    }
   ],
   "source": [
    "# Verilen bir metin içerisinden son 3 karakteri alın.\n",
    "metin = \"programlama\"\n",
    "last_three_characters = metin[-3:]\n",
    "last_three_characters"
   ]
  },
  {
   "cell_type": "code",
   "execution_count": 33,
   "metadata": {},
   "outputs": [
    {
     "data": {
      "text/plain": [
       "11"
      ]
     },
     "execution_count": 33,
     "metadata": {},
     "output_type": "execute_result"
    }
   ],
   "source": [
    "# Bir cümle içerisinde kaç kere \"a\" harfi geçiyor bulun.\n",
    "cümle = \"Ankara'da bir armut ağacı altında araba\"\n",
    "count_of_a = cümle.count(\"a\")\n",
    "count_of_a"
   ]
  },
  {
   "cell_type": "code",
   "execution_count": 34,
   "metadata": {},
   "outputs": [
    {
     "data": {
      "text/plain": [
       "'m'"
      ]
     },
     "execution_count": 34,
     "metadata": {},
     "output_type": "execute_result"
    }
   ],
   "source": [
    "# Verilen bir kelime içerisinde \"e\" harfinin indexini bulun. Sonra bu indekse kadarki kismini yazdirin\n",
    "kelime = \"merhaba\"\n",
    "index_of_e = kelime.find(\"e\")\n",
    "kelime = kelime[:index_of_e]\n",
    "kelime"
   ]
  },
  {
   "cell_type": "code",
   "execution_count": 35,
   "metadata": {},
   "outputs": [
    {
     "data": {
      "text/plain": [
       "'nohty'"
      ]
     },
     "execution_count": 35,
     "metadata": {},
     "output_type": "execute_result"
    }
   ],
   "source": [
    "# asagidaki cumleninin son 5 harfini tersten yazdirin\n",
    "cümle = \"Programlama dili Python\"\n",
    "cümle = cümle[-5:]\n",
    "cümle = cümle[::-1]\n",
    "cümle"
   ]
  },
  {
   "cell_type": "code",
   "execution_count": 37,
   "metadata": {},
   "outputs": [
    {
     "data": {
      "text/plain": [
       "'Is \"asd\" a number : False'"
      ]
     },
     "execution_count": 37,
     "metadata": {},
     "output_type": "execute_result"
    }
   ],
   "source": [
    "# kullanicidan bir sayi girmesini isteyin. \n",
    "# Girilen sayiyi kontrol edip sayi olup olmadigini ekrana yazdirin (True False olarak)\n",
    "number = input(\"Enter a number\")\n",
    "check_number = number.isdigit()\n",
    "f'Is \"{number}\" a number : {check_number}'"
   ]
  },
  {
   "cell_type": "code",
   "execution_count": 38,
   "metadata": {},
   "outputs": [
    {
     "data": {
      "text/plain": [
       "'First part is bilgis and second part is ayarlar'"
      ]
     },
     "execution_count": 38,
     "metadata": {},
     "output_type": "execute_result"
    }
   ],
   "source": [
    "# Verilen bir kelime stringini ortadan ikiye bölün. sol ve sag kismini ayri ayri bulup yazdirin\n",
    "kelime = \"bilgisayarlar\"\n",
    "mid_index = len(kelime) // 2\n",
    "first_part = kelime[:mid_index]\n",
    "second_part = kelime[mid_index:]\n",
    "f'First part is {first_part} and second part is {second_part}'"
   ]
  }
 ],
 "metadata": {
  "kernelspec": {
   "display_name": "Python 3",
   "language": "python",
   "name": "python3"
  },
  "language_info": {
   "codemirror_mode": {
    "name": "ipython",
    "version": 3
   },
   "file_extension": ".py",
   "mimetype": "text/x-python",
   "name": "python",
   "nbconvert_exporter": "python",
   "pygments_lexer": "ipython3",
   "version": "3.12.0"
  }
 },
 "nbformat": 4,
 "nbformat_minor": 2
}
