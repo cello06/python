{
 "cells": [
  {
   "cell_type": "markdown",
   "metadata": {},
   "source": [
    "## SAYILAR EV ODEVI"
   ]
  },
  {
   "cell_type": "code",
   "execution_count": 7,
   "metadata": {},
   "outputs": [
    {
     "name": "stdout",
     "output_type": "stream",
     "text": [
      "Square of the entered number is \"625\"\n"
     ]
    }
   ],
   "source": [
    "# Kullanıcıdan alınan bir float sayının karesini yazdırın.\n",
    "number = int(input(\"Enter a number\"))\n",
    "print(f'Square of the entered number is \"{number ** 2}\"')"
   ]
  },
  {
   "cell_type": "code",
   "execution_count": 9,
   "metadata": {},
   "outputs": [
    {
     "name": "stdout",
     "output_type": "stream",
     "text": [
      "remainder of two integers is 1\n"
     ]
    }
   ],
   "source": [
    "# İki tam sayının bölümünden kalanı yazdırın.\n",
    "first_number = 5\n",
    "second_number = 2\n",
    "remainder = first_number % second_number\n",
    "\n",
    "print(\"remainder of two integers is \" + str(remainder))\n"
   ]
  },
  {
   "cell_type": "code",
   "execution_count": 11,
   "metadata": {},
   "outputs": [
    {
     "name": "stdout",
     "output_type": "stream",
     "text": [
      "The biggest number of your numbers is : 78\n"
     ]
    }
   ],
   "source": [
    "# Kullanıcıdan alınan iki tam sayının en büyüğünü yazdırın.\n",
    "first_number = input(\"Enter a number : \")\n",
    "second_number = input(\"Enter the second number : \")\n",
    "print(\"The biggest number of your numbers is : \" \n",
    "      + str(max(first_number,second_number)))"
   ]
  },
  {
   "cell_type": "code",
   "execution_count": 26,
   "metadata": {},
   "outputs": [
    {
     "name": "stdout",
     "output_type": "stream",
     "text": [
      "You must enter float !\n",
      "sd\n"
     ]
    }
   ],
   "source": [
    "# Kullanıcıdan alınan bir float sayının onda iki seviyesine yuvarlanmış değerini yazdırın.\n",
    "float_number = input(\"Enter a float number : \")\n",
    "if float_number.isdigit() : \n",
    "    print(\"You must enter float ! \")\n",
    "elif float_number.isalpha() :\n",
    "    print(\"You must enter float !\")\n",
    "else :\n",
    "    float_number = round(float(float_number),2)\n",
    "print(str(float_number))        "
   ]
  },
  {
   "cell_type": "code",
   "execution_count": 27,
   "metadata": {},
   "outputs": [
    {
     "name": "stdout",
     "output_type": "stream",
     "text": [
      "Binary of number is \"0b10010001\"\n",
      "\n",
      "Octed of the number is \"0o221\"\n",
      "\n",
      "Hex of the number is \"0x91\"\n"
     ]
    }
   ],
   "source": [
    "# asagidaki sayının 2'lik, 8'lik ve 16'lik tabandaki değerini yazdırın.\n",
    "sayi = 145\n",
    "binary_of_number = bin(sayi)\n",
    "octed_of_number = oct(sayi)\n",
    "hex_of_number = hex(sayi)\n",
    "print(f'Binary of number is \"{binary_of_number}\"\\n\\nOcted of the number is \"{octed_of_number}\"\\n\\n' + \n",
    "      f'Hex of the number is \"{hex_of_number}\"')"
   ]
  },
  {
   "cell_type": "code",
   "execution_count": 28,
   "metadata": {},
   "outputs": [
    {
     "name": "stdout",
     "output_type": "stream",
     "text": [
      "82.6\n"
     ]
    }
   ],
   "source": [
    "# Asagidaki sayının tersini bulun. (stringe cevirerek yapilabilir)\n",
    "sayi = 6.28\n",
    "print(float(str(sayi)[::-1]))"
   ]
  }
 ],
 "metadata": {
  "kernelspec": {
   "display_name": "Python 3",
   "language": "python",
   "name": "python3"
  },
  "language_info": {
   "codemirror_mode": {
    "name": "ipython",
    "version": 3
   },
   "file_extension": ".py",
   "mimetype": "text/x-python",
   "name": "python",
   "nbconvert_exporter": "python",
   "pygments_lexer": "ipython3",
   "version": "3.12.0"
  }
 },
 "nbformat": 4,
 "nbformat_minor": 2
}
