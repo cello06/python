{
 "cells": [
  {
   "cell_type": "markdown",
   "metadata": {},
   "source": [
    "## MANTIKSAL OPERATÖRLER, KARŞILAŞTIRMA OPERATÖRLERİ VE TRUTHINESS EV ÖDEVİ"
   ]
  },
  {
   "cell_type": "code",
   "execution_count": null,
   "metadata": {},
   "outputs": [],
   "source": [
    "# Kullanicidan alinan kelimenin uzunlugunu bulun\n",
    "# Eğer uzunluk 10 karakterden fazla ise, \"Çok uzun bir metin\" yazdırın\n",
    "# Uzun değilse \"Uzunluk uygun\" yazdırın\n",
    "word = input(\"Enter a word :\")\n",
    "length_of_word = len(word)\n",
    "if(length_of_word > 10) :\n",
    "    print(\"Very long text\")\n",
    "else :\n",
    "    print(\"Appropriate length!\")    \n"
   ]
  },
  {
   "cell_type": "code",
   "execution_count": 13,
   "metadata": {},
   "outputs": [
    {
     "name": "stdout",
     "output_type": "stream",
     "text": [
      "Merhaba Hanimefendi\n"
     ]
    }
   ],
   "source": [
    "# Kullanıcıdan yaş ve cinsiyet bilgisi alın.\n",
    "# Yaşın sayı olup olmadığını kontrol edin (isdigit()), sayi degilse 'hatali giris yazdirin'\n",
    "# sayı ise: yaşı 18 den büyük ve erkek ise \"Merhaba Beyfendi\" yazdırın\n",
    "# sayı ise: yaşı 18 den büyük ve kadin ise \"Merhaba Hanımefendi\" yazdırın\n",
    "\n",
    "yas = input(\"What is you age ?\")\n",
    "cinsiyet = input(\"What is your gender 'm/f'?\")\n",
    "if yas.isdigit():     # yas bilgisi sayi mi kontrolu\n",
    "    if  (int(yas) > 18) and (cinsiyet=='m') :   # yas 18 den buyuk ve cinsiyet erkek ise\n",
    "        print(\"Merhaba Beyfendi\")\n",
    "    elif  (int(yas) > 18) and (cinsiyet == \"f\") :  # yas 18 den buyuk ve cinsiyet kadin ise\n",
    "        print(\"Merhaba Hanimefendi\")\n",
    "else:\n",
    "    print(\"Hatali giris\")  # yas bilgisi sayi degilse\n"
   ]
  },
  {
   "cell_type": "code",
   "execution_count": 14,
   "metadata": {},
   "outputs": [
    {
     "name": "stdout",
     "output_type": "stream",
     "text": [
      "Giris basarili :)\n"
     ]
    }
   ],
   "source": [
    "# Kullanicidan kullanici adi ve parola bilgileri alin. \n",
    "# kullanici adi ve parola dogru ise giris basarili yazdirin\n",
    "# kullanici adi veya paroladan biri hatali ise kullanici adi veya sifre hatali mesaji yazdirin\n",
    "# her ikisi de hatali ise boyle bir kullanici bulunamadi yazdirin\n",
    "\n",
    "kullanici_adi = input(\"Kullanici Adi : \")\n",
    "parola = input(\"Parola   : \")\n",
    "\n",
    "# kullanici adinin 'user' ve parolanin 'test' olmasi gerekmektedir.\n",
    "\n",
    "if kullanici_adi == \"user\" and parola == \"test\":     # kullanici adi ve parola dogru ise (and\n",
    "    print(\"Giris basarili :)\")\n",
    "\n",
    "elif kullanici_adi == \"user\" or parola == \"test\":   # biri dogru ise (or)\n",
    "    print(\"Kullanici adi veya parola hatali\")\n",
    "\n",
    "else  :  # ikisi de yanlis ise\n",
    "    print(\"Boyle bir kullanici bulunamadi\")"
   ]
  },
  {
   "cell_type": "code",
   "execution_count": 15,
   "metadata": {},
   "outputs": [
    {
     "name": "stdout",
     "output_type": "stream",
     "text": [
      "cift sayi\n"
     ]
    }
   ],
   "source": [
    "# asagidaki sayinin 2 ye kalani olup olmadigini kontrol edin. (truthiness kullanarak)\n",
    "# eger kalan varsa 'tek sayi' yoksa 'cift sayi' yazdirin\n",
    "sayi = 12\n",
    "kalan = 12 % 2\n",
    "\n",
    "if kalan:\n",
    "    print(\"Tek sayi\")\n",
    "else :\n",
    "    print(\"cift sayi\")"
   ]
  },
  {
   "cell_type": "code",
   "execution_count": 16,
   "metadata": {},
   "outputs": [
    {
     "name": "stdout",
     "output_type": "stream",
     "text": [
      "gun / ay / yıl : 12 / 12 / 12 \n"
     ]
    }
   ],
   "source": [
    "# Kullanicidan sayisal olarak yil ay ve gun bilgisi isteyin.\n",
    "# eger tum bilgiler sayisal ise (yil.isdigit() and ay.isdigit() and gun.isdigit()) \"Girilen tarih = gun / ay / yil\" formatinda yazdirin\n",
    "yil = input(\"Yıl : \")\n",
    "ay = input(\"Ay : \")\n",
    "gun = input(\"Gün  : \")\n",
    "\n",
    "if(yil.isdigit() and ay.isdigit() and gun.isdigit()):\n",
    "    print(f'gun / ay / yıl : {gun} / {ay} / {yil} ')\n"
   ]
  }
 ],
 "metadata": {
  "kernelspec": {
   "display_name": "Python 3",
   "language": "python",
   "name": "python3"
  },
  "language_info": {
   "codemirror_mode": {
    "name": "ipython",
    "version": 3
   },
   "file_extension": ".py",
   "mimetype": "text/x-python",
   "name": "python",
   "nbconvert_exporter": "python",
   "pygments_lexer": "ipython3",
   "version": "3.12.0"
  }
 },
 "nbformat": 4,
 "nbformat_minor": 2
}
