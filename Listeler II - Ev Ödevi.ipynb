{
 "cells": [
  {
   "cell_type": "markdown",
   "metadata": {},
   "source": [
    "## LİSTELER II EV ÖDEVİ"
   ]
  },
  {
   "cell_type": "code",
   "execution_count": 1,
   "metadata": {},
   "outputs": [
    {
     "name": "stdout",
     "output_type": "stream",
     "text": [
      "index of \"40\" is  : 3\n"
     ]
    }
   ],
   "source": [
    "# Aşağıdaki iki listeyi extend() metodu kullanarak birleştirin.\n",
    "# 40 rakamının birleşik listede kaçıncı indekste olduğunu bulun\n",
    "liste_1 = [10, 20, 30]\n",
    "liste_2 = [40, 50]\n",
    "liste_1.extend(liste_2)\n",
    "index = liste_1.index(40)\n",
    "print(f'index of \"40\" is  : {index}')"
   ]
  },
  {
   "cell_type": "code",
   "execution_count": 2,
   "metadata": {},
   "outputs": [
    {
     "data": {
      "text/plain": [
       "[[1, 2], [3, 4], [6, 7, 8, 9]]"
      ]
     },
     "execution_count": 2,
     "metadata": {},
     "output_type": "execute_result"
    }
   ],
   "source": [
    "# Verilen iç içe geçmiş listede ikinci listenin son elemanını silin\n",
    "nested_list = [[1, 2], [3, 4, 5], [6, 7, 8, 9]]\n",
    "del nested_list[1][-1]\n",
    "nested_list"
   ]
  },
  {
   "cell_type": "code",
   "execution_count": 5,
   "metadata": {},
   "outputs": [
    {
     "name": "stdout",
     "output_type": "stream",
     "text": [
      "maximum number : 94\n",
      "minimum number : 17\n",
      "maximum difference is 94 - 17 = 77\n"
     ]
    }
   ],
   "source": [
    "# Listede bulunan iki farklı eleman arasında oluşabilecek maksimum farkı bulun (min ve max)\n",
    "notlar = [85, 90, 78, 92, 88, 76, 89, 94, 81, 17]\n",
    "maximum_number = max(notlar)\n",
    "print(f'maximum number : {maximum_number}')\n",
    "minimum_number = min(notlar)\n",
    "print(f'minimum number : {minimum_number}')\n",
    "max_difference = maximum_number - minimum_number\n",
    "print(f'maximum difference is {maximum_number} - {minimum_number} = {max_difference}')"
   ]
  },
  {
   "cell_type": "code",
   "execution_count": 6,
   "metadata": {},
   "outputs": [
    {
     "name": "stdout",
     "output_type": "stream",
     "text": [
      "[2, 3, 4]\n"
     ]
    }
   ],
   "source": [
    "# listeyi bastan itibaren ilk 3 elemanını dilimleyerek yeni liste olusturun\n",
    "# yeni listeyi sıralayın\n",
    "liste18 = [4, 3, 2, 3, 1]\n",
    "new_list = liste18[:3]\n",
    "new_list.sort()\n",
    "print(new_list)"
   ]
  },
  {
   "cell_type": "code",
   "execution_count": 18,
   "metadata": {},
   "outputs": [
    {
     "name": "stdout",
     "output_type": "stream",
     "text": [
      "You enter a wrong input so get out!\n",
      "['a', 'b', 'c']\n"
     ]
    }
   ],
   "source": [
    "# listeleri 2 farkli yontem kullanarak birlestirin ancak ikinci listeyi terse cevirerek yapin ( extend ve +=, reverse() )\n",
    "liste1 = ['a', 'b', 'c']\n",
    "liste2 = [1, 2, 3]\n",
    "liste2.reverse()\n",
    "method = input(\"choose your combine method  --> 1 for extend --> 2 for +=\")\n",
    "if method == 1 : \n",
    "    liste1.extend(liste2)\n",
    "elif method == 2:\n",
    "    liste1 += liste2    \n",
    "else : \n",
    "    print(\"You enter a wrong input so get out!\")\n",
    "    \n",
    "print(liste1)"
   ]
  },
  {
   "cell_type": "code",
   "execution_count": 19,
   "metadata": {},
   "outputs": [
    {
     "name": "stdout",
     "output_type": "stream",
     "text": [
      "['veli', 'ali', 'hasan', 'semih', 'cello']\n",
      "['veli', 'ali', 'hasan', 'semih', 'cello']\n"
     ]
    }
   ],
   "source": [
    "# asagidaki listeyi '=' operatoru ile kopyalayin ve bunun sakincasini gosteren bir kod yazin \n",
    "# (yeni listede değişiklik yapın ve orjinal listenin değiştiğini gösterin)\n",
    "liste = ['veli', 'ali', 'hasan', 'semih']\n",
    "liste_2 = liste\n",
    "liste_2.append('cello')\n",
    "\n",
    "print(liste)\n",
    "print(liste_2)"
   ]
  },
  {
   "cell_type": "code",
   "execution_count": 28,
   "metadata": {},
   "outputs": [
    {
     "name": "stdout",
     "output_type": "stream",
     "text": [
      "No ! 12 is not in the [1, 3, 4, 6, 9]\n",
      "[1, 3, 4, 6, 9, 12]\n"
     ]
    }
   ],
   "source": [
    "# Kullanicidan 0-9 arasi rakam girmesini isteyin (sayi = input...)\n",
    "# kullanicinin bir şeyler yazdığından ve yazdıklarının rakam olduğunu kontrol edin. (truthiness (if sayi:) ve isdigit())\n",
    "# bu rakamin asagidaki listede olup olmadigini kontrol edin ( in komutu )\n",
    "# bu listeyi kopyalayın sonra kopyalanmış olan listeye girilen sayıyı ekleyin\n",
    "liste = [1, 3, 4, 6, 9]\n",
    "number_of_user =input('Enter a number between 0-9')\n",
    "if number_of_user :\n",
    "    if(number_of_user.isdigit()):\n",
    "        number_of_user = int(number_of_user)\n",
    "        if(number_of_user in liste):\n",
    "            print(f'Yes ! {number_of_user} is in the {liste}')\n",
    "            \n",
    "        else :\n",
    "            print(f'No ! {number_of_user} is not in the {liste}')\n",
    "        copy_list = liste.copy()\n",
    "        copy_list.append(number_of_user)\n",
    "        print(copy_list)     \n",
    "    else:\n",
    "        print(\"You must enter a number !\")\n",
    "else:\n",
    "    print(\"Why you didn't enter anything!\")\n",
    "\n",
    "       \n",
    "\n"
   ]
  },
  {
   "cell_type": "code",
   "execution_count": 30,
   "metadata": {},
   "outputs": [
    {
     "name": "stdout",
     "output_type": "stream",
     "text": [
      "['Masumiyet Müzesi', 'Kürk Mantolu Madonna', 'Saatleri Ayarlama Enstitüsü', 'İnce Mehmed', 'Benim Adım Kırmızı']\n",
      "index of \"Masumiyet Müzesi\" is 0\n"
     ]
    }
   ],
   "source": [
    "# Kitapçı envanteriniz şu kitapları içeriyor: [\"Masumiyet Müzesi\", \"Kürk Mantolu Madonna\", \"Saatleri Ayarlama Enstitüsü\", \"Beyaz Kale\", \"İnce Mehmed\"]\n",
    "# \"Saatleri Ayarlama Enstitüsü\" kitabının envanterdeki pozisyonunu bulun.\n",
    "# Envanterinize \"Benim Adım Kırmızı\" kitabını ekleyin.\n",
    "# Orjinal listeyi değiştirmeden listeyi alfabetik olarak sıralayın\n",
    "# \"Beyaz Kale\" kitabını silin.\n",
    "# Envanterin güncel halini ve \"Masumiyet Müzesi\" kitabının şu anki pozisyonunu yazdırın\n",
    "book_list = [\"Masumiyet Müzesi\", \"Kürk Mantolu Madonna\", \"Saatleri Ayarlama Enstitüsü\", \"Beyaz Kale\", \"İnce Mehmed\"]\n",
    "index = book_list.index(\"Saatleri Ayarlama Enstitüsü\")\n",
    "book_list.append(\"Benim Adım Kırmızı\")\n",
    "sorted_list = sorted(book_list)\n",
    "book_list.remove(\"Beyaz Kale\")\n",
    "\n",
    "index = book_list.index(\"Masumiyet Müzesi\")\n",
    "print(book_list)\n",
    "print(f'index of \"Masumiyet Müzesi\" is {index}')\n",
    "\n"
   ]
  }
 ],
 "metadata": {
  "kernelspec": {
   "display_name": "Python 3",
   "language": "python",
   "name": "python3"
  },
  "language_info": {
   "codemirror_mode": {
    "name": "ipython",
    "version": 3
   },
   "file_extension": ".py",
   "mimetype": "text/x-python",
   "name": "python",
   "nbconvert_exporter": "python",
   "pygments_lexer": "ipython3",
   "version": "3.12.0"
  }
 },
 "nbformat": 4,
 "nbformat_minor": 2
}
