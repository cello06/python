{
 "cells": [
  {
   "cell_type": "markdown",
   "metadata": {},
   "source": [
    "## ITERASYON II EV ÖDEVİ"
   ]
  },
  {
   "cell_type": "code",
   "execution_count": 1,
   "metadata": {},
   "outputs": [
    {
     "data": {
      "text/plain": [
       "['banana', 'cherry']"
      ]
     },
     "execution_count": 1,
     "metadata": {},
     "output_type": "execute_result"
    }
   ],
   "source": [
    "# aşağıdaki listede yer alan kelimelerden uzunluğuna 5 ten büyük olanlardan yeni liste yapın\n",
    "words = [\"apple\", \"banana\", \"cherry\", \"date\"]\n",
    "new_list = [word for word in words if len(word)> 5]\n",
    "new_list"
   ]
  },
  {
   "cell_type": "code",
   "execution_count": 8,
   "metadata": {},
   "outputs": [
    {
     "name": "stdout",
     "output_type": "stream",
     "text": [
      "625\n"
     ]
    }
   ],
   "source": [
    "# 1 ile 50 arasındaki tek sayıların toplamını range ve for dongusu ile bulun.\n",
    "sum = 0 \n",
    "for number in range(1,50,2):\n",
    "    sum += number\n",
    "print(sum)    "
   ]
  },
  {
   "cell_type": "code",
   "execution_count": 10,
   "metadata": {},
   "outputs": [
    {
     "name": "stdout",
     "output_type": "stream",
     "text": [
      "12 15 18 21 24 27 "
     ]
    },
    {
     "data": {
      "text/plain": [
       "117"
      ]
     },
     "execution_count": 10,
     "metadata": {},
     "output_type": "execute_result"
    }
   ],
   "source": [
    "# 10 ile 30 arasında 3 e bolunebilen sayıların toplamini bulun\n",
    "sum = 0 \n",
    "for number in range(10,30):\n",
    "    if(number % 3 == 0) :\n",
    "        print(number,end=\" \")\n",
    "        sum += number\n",
    "sum        \n"
   ]
  },
  {
   "cell_type": "code",
   "execution_count": 17,
   "metadata": {},
   "outputs": [
    {
     "name": "stdout",
     "output_type": "stream",
     "text": [
      "5 * 1 = 5\n",
      "5 * 2 = 10\n",
      "5 * 3 = 15\n",
      "5 * 4 = 20\n",
      "5 * 5 = 25\n",
      "5 * 6 = 30\n",
      "5 * 7 = 35\n",
      "5 * 8 = 40\n",
      "5 * 9 = 45\n",
      "5 * 10 = 50\n"
     ]
    },
    {
     "ename": "ValueError",
     "evalue": "invalid literal for int() with base 10: 'f'",
     "output_type": "error",
     "traceback": [
      "\u001b[1;31m---------------------------------------------------------------------------\u001b[0m",
      "\u001b[1;31mValueError\u001b[0m                                Traceback (most recent call last)",
      "Cell \u001b[1;32mIn[17], line 20\u001b[0m\n\u001b[0;32m     18\u001b[0m             \u001b[38;5;28;01mbreak\u001b[39;00m\n\u001b[0;32m     19\u001b[0m     \u001b[38;5;28;01melse\u001b[39;00m:\n\u001b[1;32m---> 20\u001b[0m         number \u001b[38;5;241m=\u001b[39m \u001b[38;5;28;43mint\u001b[39;49m\u001b[43m(\u001b[49m\u001b[43mnumber\u001b[49m\u001b[43m)\u001b[49m\n\u001b[0;32m     21\u001b[0m         condition \u001b[38;5;241m=\u001b[39m \u001b[38;5;28;01mFalse\u001b[39;00m\n\u001b[0;32m     23\u001b[0m \u001b[38;5;28;01mfor\u001b[39;00m factor \u001b[38;5;129;01min\u001b[39;00m \u001b[38;5;28mrange\u001b[39m(\u001b[38;5;241m1\u001b[39m,\u001b[38;5;241m11\u001b[39m):\n",
      "\u001b[1;31mValueError\u001b[0m: invalid literal for int() with base 10: 'f'"
     ]
    }
   ],
   "source": [
    "# ASAGIDA kullanicidan alinan bir sayinin 1-10 arasi carpim tablosu ekrana yazdirilmaktadir.\n",
    "# Bunu range fonksiyonu ve for dongusu kullanarak yeniden yazin.\n",
    "sayi = 5\n",
    "carpan = 1\n",
    "while carpan <= 10:\n",
    "    sonuc = sayi * carpan\n",
    "    print(f'{sayi} * {carpan} = {sonuc}')\n",
    "    carpan += 1\n",
    "\n",
    "# range ve for dongusu ile\n",
    "condition = True\n",
    "while(condition):\n",
    "    number = input(\"Enter a digit\")\n",
    "    if(len(number)>1):\n",
    "        print(\"Wrong input!You must enter a digit!\")\n",
    "        user_decision = input(\"To continue press '1' , to quit press '0'\")\n",
    "        if(user_decision == 0):\n",
    "            break\n",
    "    else:\n",
    "        number = int(number)\n",
    "        condition = False\n",
    "\n",
    "for factor in range(1,11):\n",
    "    print(f'{number} * {factor} = {number*factor}')\n",
    "\n"
   ]
  },
  {
   "cell_type": "code",
   "execution_count": 18,
   "metadata": {},
   "outputs": [
    {
     "data": {
      "text/plain": [
       "[1, 3, 5]"
      ]
     },
     "execution_count": 18,
     "metadata": {},
     "output_type": "execute_result"
    }
   ],
   "source": [
    "# Bir sayı listesindeki negatif sayıları pozitif değerlerine çevirerek yeni bir liste oluşturun.\n",
    "# eğer sayı pozitif ise listeye dahil etmeyin\n",
    "# List Comprehension kullanilacak (abs fonksiyonu ile)\n",
    "\n",
    "numbers = [-1, 2, -3, 4, -5]\n",
    "new_list = [abs(number) for number in numbers if number < 0]\n",
    "new_list"
   ]
  },
  {
   "cell_type": "code",
   "execution_count": 19,
   "metadata": {},
   "outputs": [
    {
     "name": "stdout",
     "output_type": "stream",
     "text": [
      "['cherry']\n"
     ]
    }
   ],
   "source": [
    "# Bir kelime listesinden, 'a' harfi içeren kelimeleri filtreleyin ve yeni bir liste olusturun\n",
    "# List Comprehension kullanilacak\n",
    "\n",
    "words = [\"apple\", \"banana\", \"cherry\", \"date\"]\n",
    "words_2 = [word for word in words if not 'a'in word]\n",
    "print(words_2)"
   ]
  },
  {
   "cell_type": "code",
   "execution_count": 20,
   "metadata": {},
   "outputs": [
    {
     "name": "stdout",
     "output_type": "stream",
     "text": [
      "[1, 2, 3, 4]\n"
     ]
    }
   ],
   "source": [
    "# Verilen bir string içindeki tüm rakamları bulun ve bunları yeni bir listesi olarak döndürün. sayilari integer haline cevirin\n",
    "# List Comprehension kullanilacak (isdigit() metodu ile int() fonksiyonu kullanilacak)\n",
    "\n",
    "s = \"a1b2c3d4\"\n",
    "sayilar_listesi = [int(letter) for letter in s if letter.isdigit()]\n",
    "print(sayilar_listesi)"
   ]
  },
  {
   "cell_type": "code",
   "execution_count": 21,
   "metadata": {},
   "outputs": [
    {
     "name": "stdout",
     "output_type": "stream",
     "text": [
      "['a', '1', 'b', '2', 'c', '3', 'd', '4', 'e', '5']\n"
     ]
    }
   ],
   "source": [
    "# Bir stringdeki tüm harf ve rakam olmayan karakterleri çıkararak yeni bir liste oluşturun. \n",
    "# List Comprehension kullanilacak (isalnum() metodu ile)\n",
    "\n",
    "s = \"a1b2c3!d4@e5#\"\n",
    "liste = [ letter for letter in s if letter.isalnum()]\n",
    "print(liste)"
   ]
  }
 ],
 "metadata": {
  "kernelspec": {
   "display_name": "Python 3",
   "language": "python",
   "name": "python3"
  },
  "language_info": {
   "codemirror_mode": {
    "name": "ipython",
    "version": 3
   },
   "file_extension": ".py",
   "mimetype": "text/x-python",
   "name": "python",
   "nbconvert_exporter": "python",
   "pygments_lexer": "ipython3",
   "version": "3.12.0"
  }
 },
 "nbformat": 4,
 "nbformat_minor": 2
}
