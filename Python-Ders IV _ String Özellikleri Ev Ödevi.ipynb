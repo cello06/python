{
 "cells": [
  {
   "cell_type": "markdown",
   "metadata": {},
   "source": [
    "## STRING ÖZELLİKLERİ EV ÖDEVİ"
   ]
  },
  {
   "cell_type": "code",
   "execution_count": 1,
   "metadata": {},
   "outputs": [],
   "source": [
    "# Boş bir string oluşturun ve \"Merhaba\" kelimesini ekleyin.\n",
    "kelime = \"Merhaba\""
   ]
  },
  {
   "cell_type": "code",
   "execution_count": 2,
   "metadata": {},
   "outputs": [
    {
     "name": "stdout",
     "output_type": "stream",
     "text": [
      "welcome to Phyton\n"
     ]
    }
   ],
   "source": [
    "# \"Python\" kelimesini içeren bir string oluşturun.\n",
    "kelime = \"welcome to Phyton\"\n",
    "print(kelime)"
   ]
  },
  {
   "cell_type": "code",
   "execution_count": 3,
   "metadata": {},
   "outputs": [
    {
     "name": "stdout",
     "output_type": "stream",
     "text": [
      "Today we went to 'thinkintone' \n",
      "We enjoyed there thanks to:\tGüray\n"
     ]
    }
   ],
   "source": [
    "# Yeni satır (\\n) ve sekme (\\t) kaçış dizilerini kullanarak bir string oluşturun.\n",
    "cümle = \"Today we went to 'thinkintone' \\nWe enjoyed there thanks to:\\tGüray\"\n",
    "print(cümle)"
   ]
  },
  {
   "cell_type": "code",
   "execution_count": 4,
   "metadata": {},
   "outputs": [
    {
     "name": "stdout",
     "output_type": "stream",
     "text": [
      "'<<Phyton>>'\"<<Dünya>>\"\n"
     ]
    }
   ],
   "source": [
    "# Tek tırnak içerisinde <<Python>> kelimesini ve çift tırnak içerisinde <<Dünya>> kelimesini birleştirerek bir string oluşturun.\n",
    "word = \"'<<Phyton>>'\" + '\"<<Dünya>>\"'\n",
    "print(word)"
   ]
  },
  {
   "cell_type": "code",
   "execution_count": 5,
   "metadata": {},
   "outputs": [
    {
     "name": "stdout",
     "output_type": "stream",
     "text": [
      "We will \n",
      "learn\n",
      "Phyton ! \n",
      "with the permisson of creator\n"
     ]
    }
   ],
   "source": [
    "#  üç tırnak kullanarak birden fazla satıra yayılan bir string oluşturun.\n",
    "new_style = '''We will \n",
    "learn\n",
    "Phyton ! \n",
    "with the permisson of creator'''\n",
    "print(new_style)"
   ]
  },
  {
   "cell_type": "code",
   "execution_count": 6,
   "metadata": {},
   "outputs": [
    {
     "name": "stdout",
     "output_type": "stream",
     "text": [
      "6\n"
     ]
    }
   ],
   "source": [
    "#  \"OpenAI\" kelimesinin uzunluğunu bulun ve ekrana yazdirin.\n",
    "print(len(\"OpenAI\"))"
   ]
  },
  {
   "cell_type": "code",
   "execution_count": 10,
   "metadata": {},
   "outputs": [
    {
     "name": "stdout",
     "output_type": "stream",
     "text": [
      "Bos stringin uzunluğu: 0\n"
     ]
    }
   ],
   "source": [
    "# Boş bir stringin uzunluğunu bulun. 'Bos stringin uzunlugu :' diye baslayip uzunlugunu yazdirin\n",
    "print(\"Bos stringin uzunluğu:\",len(\"\"))"
   ]
  },
  {
   "cell_type": "code",
   "execution_count": 11,
   "metadata": {},
   "outputs": [
    {
     "ename": "TypeError",
     "evalue": "'str' object does not support item assignment",
     "output_type": "error",
     "traceback": [
      "\u001b[1;31m---------------------------------------------------------------------------\u001b[0m",
      "\u001b[1;31mTypeError\u001b[0m                                 Traceback (most recent call last)",
      "\u001b[1;32mc:\\Users\\Celallettin\\Downloads\\Telegram Desktop\\Python-Ders IV _ String Özellikleri Ev Ödevi.ipynb Cell 9\u001b[0m line \u001b[0;36m3\n\u001b[0;32m      <a href='vscode-notebook-cell:/c%3A/Users/Celallettin/Downloads/Telegram%20Desktop/Python-Ders%20IV%20_%20String%20O%CC%88zellikleri%20Ev%20O%CC%88devi.ipynb#X11sZmlsZQ%3D%3D?line=0'>1</a>\u001b[0m \u001b[39m# \"Elma\" stringinde \"l\" harfini \"m\" ile değiştirmeye çalışın. \u001b[39;00m\n\u001b[0;32m      <a href='vscode-notebook-cell:/c%3A/Users/Celallettin/Downloads/Telegram%20Desktop/Python-Ders%20IV%20_%20String%20O%CC%88zellikleri%20Ev%20O%CC%88devi.ipynb#X11sZmlsZQ%3D%3D?line=1'>2</a>\u001b[0m kelime \u001b[39m=\u001b[39m \u001b[39m\"\u001b[39m\u001b[39mElma\u001b[39m\u001b[39m\"\u001b[39m\n\u001b[1;32m----> <a href='vscode-notebook-cell:/c%3A/Users/Celallettin/Downloads/Telegram%20Desktop/Python-Ders%20IV%20_%20String%20O%CC%88zellikleri%20Ev%20O%CC%88devi.ipynb#X11sZmlsZQ%3D%3D?line=2'>3</a>\u001b[0m kelime[\u001b[39m1\u001b[39;49m] \u001b[39m=\u001b[39m \u001b[39m\"\u001b[39m\u001b[39mm\u001b[39m\u001b[39m\"\u001b[39m\n",
      "\u001b[1;31mTypeError\u001b[0m: 'str' object does not support item assignment"
     ]
    }
   ],
   "source": [
    "# \"Elma\" stringinde \"l\" harfini \"m\" ile değiştirmeye çalışın. \n",
    "kelime = \"Elma\"\n",
    "kelime[1] = \"m\""
   ]
  },
  {
   "cell_type": "code",
   "execution_count": 12,
   "metadata": {},
   "outputs": [
    {
     "name": "stdout",
     "output_type": "stream",
     "text": [
      "Yeni Dünya\n"
     ]
    }
   ],
   "source": [
    "# \"Dünya\" stringini b'r degiskene atayin. Bu degiskeni \"Yeni Dünya\" şeklinde bir stringe donusturun.\n",
    "word = \"Dünya\"\n",
    "new_word = \"Yeni \" + word\n",
    "print(new_word)"
   ]
  },
  {
   "cell_type": "code",
   "execution_count": 13,
   "metadata": {},
   "outputs": [
    {
     "name": "stdout",
     "output_type": "stream",
     "text": [
      "Merhaba Dünya!\n"
     ]
    }
   ],
   "source": [
    "# \"Merhaba\" ve \"Dünya!\" kelimelerini aralarına bir boşluk ekleyerek birleştirin.\n",
    "word = \"Merhaba\" + \" \" + \"Dünya!\"\n",
    "print(word)"
   ]
  },
  {
   "cell_type": "code",
   "execution_count": 5,
   "metadata": {},
   "outputs": [
    {
     "name": "stdout",
     "output_type": "stream",
     "text": [
      "We love thinkintone\n"
     ]
    }
   ],
   "source": [
    "# 3 farklı kelimeyi boşluklarla birleştirerek tek bir string oluşturun. \n",
    "word = \"We\" + \" \" + \"love\" + \" \" + \"thinkintone\"\n",
    "print(word)"
   ]
  },
  {
   "cell_type": "code",
   "execution_count": 7,
   "metadata": {},
   "outputs": [
    {
     "name": "stdout",
     "output_type": "stream",
     "text": [
      "Phyton Phyton Phyton \n"
     ]
    }
   ],
   "source": [
    "# \"Python\" kelimesini 3 kere tekrar eden bir string oluşturun.\n",
    "word = \"Phyton \" * 3\n",
    "print(word)"
   ]
  },
  {
   "cell_type": "code",
   "execution_count": 9,
   "metadata": {},
   "outputs": [
    {
     "name": "stdout",
     "output_type": "stream",
     "text": [
      "_ _ _ _ _ _ _ _ _ _ \n"
     ]
    }
   ],
   "source": [
    "# \"-\" karakterini 10 kere tekrar eden bir string oluşturun.\n",
    "word = \"_ \" *10\n",
    "print(word)"
   ]
  },
  {
   "cell_type": "code",
   "execution_count": 13,
   "metadata": {},
   "outputs": [
    {
     "name": "stdout",
     "output_type": "stream",
     "text": [
      "is there 'dili' in 'Python programlama dili' :True\n"
     ]
    }
   ],
   "source": [
    "#  \"Python programlama dili\" ifadesi içinde \"ili\" kelimesinin olup olmadığını bulun.\n",
    "sentence = \"Python programlama dili\"\n",
    "target_word = \"dili\"\n",
    "print(\"is there \" + \"'\" + target_word + \"'\" + \" in \" + \"'\" + sentence + \"'\"\" :\" + str(target_word in sentence))"
   ]
  },
  {
   "cell_type": "code",
   "execution_count": 14,
   "metadata": {},
   "outputs": [
    {
     "name": "stdout",
     "output_type": "stream",
     "text": [
      "we,will,never,lie,eachother\n"
     ]
    }
   ],
   "source": [
    "# 5 farklı kelimeyi virgülle birleştirerek tek bir string oluşturun.\n",
    "word = \"we\" + \",\" + \"will\" + \",\" + \"never\" + \",\" + \"lie\" + \",\" +\"eachother\"\n",
    "print(word)"
   ]
  },
  {
   "cell_type": "code",
   "execution_count": 15,
   "metadata": {},
   "outputs": [
    {
     "name": "stdout",
     "output_type": "stream",
     "text": [
      "Merhaba Merhaba Merhaba Merhaba Merhaba Merhaba Merhaba \n"
     ]
    }
   ],
   "source": [
    "# \"Merhaba\" kelimesini kendi uzunluğu kadar tekrar eden bir string oluşturun.\n",
    "word = \"Merhaba \" * len(\"Merhaba\")\n",
    "print(word)"
   ]
  },
  {
   "cell_type": "code",
   "execution_count": 16,
   "metadata": {},
   "outputs": [
    {
     "name": "stdout",
     "output_type": "stream",
     "text": [
      "is there 'GPT-3' in 'OpenAI GPT-4 modeli' :False\n"
     ]
    }
   ],
   "source": [
    "# \"OpenAI GPT-4 modeli\" ifadesi içinde \"GPT-3\" kelimesinin geçip geçmediğini kontrol edin ve yazdirin\n",
    "sentence = \"OpenAI GPT-4 modeli\"\n",
    "target_word = \"GPT-3\"\n",
    "print(\"is there \" + \"'\" + target_word + \"'\" + \" in \" + \"'\" + sentence + \"'\"\" :\" + str(target_word in sentence))"
   ]
  },
  {
   "cell_type": "code",
   "execution_count": 19,
   "metadata": {},
   "outputs": [
    {
     "name": "stdout",
     "output_type": "stream",
     "text": [
      "is there 'no' in 'do it ' :False\n"
     ]
    }
   ],
   "source": [
    "# Kullanıcıdan bir cümle ve bir kelime alın. Cumlede bu kelimenin olup olmadığını kontrol edin.\n",
    "sentence = input(\"Please enter a sentence :\")\n",
    "word = input(\"Please enter a word now :\")\n",
    "print(\"is there \" + \"'\" + word + \"'\" + \" in \" + \"'\" + sentence + \"'\"\" :\" + str(word in sentence))\n"
   ]
  }
 ],
 "metadata": {
  "kernelspec": {
   "display_name": "Python 3",
   "language": "python",
   "name": "python3"
  },
  "language_info": {
   "codemirror_mode": {
    "name": "ipython",
    "version": 3
   },
   "file_extension": ".py",
   "mimetype": "text/x-python",
   "name": "python",
   "nbconvert_exporter": "python",
   "pygments_lexer": "ipython3",
   "version": "3.12.0"
  }
 },
 "nbformat": 4,
 "nbformat_minor": 2
}
