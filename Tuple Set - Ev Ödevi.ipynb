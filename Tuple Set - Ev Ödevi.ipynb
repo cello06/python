{
 "cells": [
  {
   "cell_type": "markdown",
   "metadata": {},
   "source": [
    "## TUPLE & SET EV ÖDEVİ"
   ]
  },
  {
   "cell_type": "code",
   "execution_count": 1,
   "metadata": {},
   "outputs": [
    {
     "name": "stdout",
     "output_type": "stream",
     "text": [
      "Tuple'ın 3. elemanı: 3\n"
     ]
    }
   ],
   "source": [
    "# Bir tuple oluşturun ve bu tuple'ın 3. elemanını ekrana yazdırın.\n",
    "my_tuple = (1,2,3,4,5)\n",
    "print(\"Tuple'ın 3. elemanı:\", my_tuple[2])"
   ]
  },
  {
   "cell_type": "code",
   "execution_count": 2,
   "metadata": {},
   "outputs": [
    {
     "name": "stdout",
     "output_type": "stream",
     "text": [
      "Tallest Student : 193\n",
      "Shortest Student : 146\n",
      "Average Length of the class is 173.0\n"
     ]
    }
   ],
   "source": [
    "# cm cinsinden öğrenci boylarını içinde bulunduran bir tuple oluşturun. \n",
    "# Daha sonra, en kısa ve en uzun boyu ekrana yazdırın.\n",
    "# son olarak listenin ortalamasını bulun ( ortalam için tuple içindeki tüm sayıların toplamını, tuple içindeki eleman sayısına bölün)\n",
    "heights_of_students = (175,186,193,165,146)\n",
    "shortest_one = min(heights_of_students)\n",
    "tallest_one = max(heights_of_students)\n",
    "print(f'Tallest Student : {tallest_one}\\nShortest Student : {shortest_one}')\n",
    "avearage_length = sum(heights_of_students) / len(heights_of_students)\n",
    "print(f'Average Length of the class is {avearage_length}')"
   ]
  },
  {
   "cell_type": "code",
   "execution_count": 5,
   "metadata": {},
   "outputs": [
    {
     "name": "stdout",
     "output_type": "stream",
     "text": [
      "There is no such fruit\n"
     ]
    }
   ],
   "source": [
    "# Bir tuple içinde çeşitli meyveleri temsil eden öğeleri bir araya getirin. \n",
    "# Kullanıcıdan bir meyve adı alın ve önce bu meyvenin tuple içinde olup olmadığını kontrol edin\n",
    "# eğer bu meyve tuple içinde varsa kaç adet bulunduğunu ekrana yazdırın\n",
    "fruit_tuple = ('banana','apple','strawberry','watermelon','apple','apple','apple')\n",
    "user_fruit = input(\"Enter a fruit name :\")\n",
    "count = fruit_tuple.count(user_fruit)\n",
    "if(count):\n",
    "    print(count)\n",
    "else:\n",
    "    print(\"There is no such fruit\")    "
   ]
  },
  {
   "cell_type": "code",
   "execution_count": 6,
   "metadata": {},
   "outputs": [
    {
     "name": "stdout",
     "output_type": "stream",
     "text": [
      "car_name --> Toyota\n",
      "car_model --> 2022\n",
      "car_km --> 25000.0\n"
     ]
    }
   ],
   "source": [
    "# Bu arabanın bilgilerini tek satırda 3 farklı değişkene atayın\n",
    "# degişken isimleri sırasıyla marka, kilometre ve model_yili olsun.\n",
    "# sonra kilometre değişkeni ile model_yili değişkeninin değerlerini tek satırda değiştirin\n",
    "car_info = (\"Toyota\", 2022, 25000.0)\n",
    "car_name,car_km,car_model = car_info\n",
    "car_name,car_model,car_km = car_name,car_km,car_model\n",
    "print(f'car_name --> {car_name}\\ncar_model --> {car_model}\\ncar_km --> {car_km}')\n"
   ]
  },
  {
   "cell_type": "code",
   "execution_count": 10,
   "metadata": {},
   "outputs": [
    {
     "data": {
      "text/plain": [
       "{'at', 'ayı', 'kelebek', 'kuş', 'köpek', 'tilki'}"
      ]
     },
     "execution_count": 10,
     "metadata": {},
     "output_type": "execute_result"
    }
   ],
   "source": [
    "# Aşağıdaki kümeye \"tilki\" elemanını ekleyin. \n",
    "# Takiben önce \"kedi\" elemanını, sonra \"Köpüş\" elemanını çıkarın. \n",
    "# \"Köpüş\" elemanını çıkarırken hata vermeyecek şekilde komut yazın\n",
    "# Son olarak \"at\", \"ayı\" ve \"kelebek\" hayvanlarını tek komutla set içerisine ekleyip son halini yazdırın\n",
    "hayvanlar = {\"köpek\", \"kedi\", \"kuş\"}\n",
    "hayvanlar.add(\"tilki\")\n",
    "hayvanlar.remove(\"kedi\")\n",
    "hayvanlar.discard(\"köpüş\")\n",
    "hayvanlar.update([\"at\", \"ayı\",\"kelebek\"])\n",
    "hayvanlar\n"
   ]
  },
  {
   "cell_type": "code",
   "execution_count": 11,
   "metadata": {},
   "outputs": [
    {
     "data": {
      "text/plain": [
       "{5, 6, 7, 8}"
      ]
     },
     "execution_count": 11,
     "metadata": {},
     "output_type": "execute_result"
    }
   ],
   "source": [
    "# Verilen listedeki tekrar eden elemanları çıkararak yeni bir liste oluşturun.\n",
    "liste = [5, 5, 6, 7, 7, 8]\n",
    "new_list = set(liste)\n",
    "new_list\n"
   ]
  },
  {
   "cell_type": "code",
   "execution_count": 13,
   "metadata": {},
   "outputs": [
    {
     "name": "stdout",
     "output_type": "stream",
     "text": [
      "Max --> 99\n",
      "Min --> 5\n"
     ]
    }
   ],
   "source": [
    "# Aşağıdaki kümeden en büyük ve en küçük elemanı bulun.\n",
    "sayılar = {42, 17, 63, 99, 21, 5}\n",
    "max_number = max(sayılar)\n",
    "min_number = min(sayılar)\n",
    "print(f'Max --> {max_number}\\nMin --> {min_number}')\n",
    "\n"
   ]
  },
  {
   "cell_type": "code",
   "execution_count": 15,
   "metadata": {},
   "outputs": [
    {
     "data": {
      "text/plain": [
       "{5, 17, 23, 42, 60}"
      ]
     },
     "execution_count": 15,
     "metadata": {},
     "output_type": "execute_result"
    }
   ],
   "source": [
    "# Verilen kümeyi sıralayın ve son halinde yine elinizde bir küme olsun.  (sorted, set)\n",
    "küme = {42, 5, 23, 17, 60}\n",
    "sorted_küme = set(sorted(küme))\n",
    "sorted_küme\n"
   ]
  }
 ],
 "metadata": {
  "kernelspec": {
   "display_name": "Python 3",
   "language": "python",
   "name": "python3"
  },
  "language_info": {
   "codemirror_mode": {
    "name": "ipython",
    "version": 3
   },
   "file_extension": ".py",
   "mimetype": "text/x-python",
   "name": "python",
   "nbconvert_exporter": "python",
   "pygments_lexer": "ipython3",
   "version": "3.12.0"
  }
 },
 "nbformat": 4,
 "nbformat_minor": 2
}
