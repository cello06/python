{
 "cells": [
  {
   "cell_type": "markdown",
   "metadata": {},
   "source": [
    "## DİKKAT! if yapısında eşitlik kontrolü için \"==\" operatörü kullanın. if a == b: şeklinde"
   ]
  },
  {
   "cell_type": "code",
   "execution_count": 2,
   "metadata": {},
   "outputs": [
    {
     "name": "stdout",
     "output_type": "stream",
     "text": [
      "Your number is an odd  number\n"
     ]
    }
   ],
   "source": [
    "# Girilen bir sayının tek mi çift mi olduğunu kontrol eden bir kod yazın. \n",
    "# IPUCU (sayiyi int yapin, // 2 yapinca sonuc 0 ise cift, degilse tektir)\n",
    "number = int(input(\"Enter a number : \"))\n",
    "result= 'odd ' if not number % 2 == 0 else \"even\"\n",
    "print(f\"Your number is an {result} number\")\n"
   ]
  },
  {
   "cell_type": "code",
   "execution_count": 6,
   "metadata": {},
   "outputs": [
    {
     "name": "stdout",
     "output_type": "stream",
     "text": [
      "You are not retired\n"
     ]
    }
   ],
   "source": [
    "# Bir kişinin yaşını alın ve 65'ten büyükse \"emekli\" küçükse \"emekli değil\" yazdırın.\n",
    "age = int(input(\"Enter your age : \"))\n",
    "condition = 'Retired' if age > 65 else 'Not Retired'\n",
    "print(\"You are \" + condition.lower())"
   ]
  },
  {
   "cell_type": "code",
   "execution_count": 14,
   "metadata": {},
   "outputs": [
    {
     "name": "stdout",
     "output_type": "stream",
     "text": [
      "Your letter is not vowel\n"
     ]
    }
   ],
   "source": [
    "# Kullanıcıdan bir harf girmesini isteyin ve bu harfin sesli bir harf olup olmadığını kontrol edin.\n",
    "# eğer sesli harf ise harf = 'sesli' değilse harf = \"sessiz\" ataması yapın.\n",
    "# IPUCU (Sesli olup olmadigini <<harf in 'aeiou'>> kontroluyle bulabiliriz)\n",
    "letter = input(\"Enter a letter :\")\n",
    "if letter.isdigit() :\n",
    "    print(\"You must enter a letter!\")\n",
    "elif len(letter) > 1 :\n",
    "    print(\"You must enter only a letter!\")\n",
    "else:\n",
    "    control = 'vowel' if letter in 'aeiou' else 'not vowel'\n",
    "    print(\"Your letter is \" + control)        "
   ]
  },
  {
   "cell_type": "code",
   "execution_count": null,
   "metadata": {},
   "outputs": [],
   "source": [
    "# Yukarıdaki harf değişkenine atama işlemini tek satırda yapın\n",
    "#zaten tek satırda yaptım :)"
   ]
  },
  {
   "cell_type": "code",
   "execution_count": 15,
   "metadata": {},
   "outputs": [
    {
     "name": "stdout",
     "output_type": "stream",
     "text": [
      "Hello 15 how are you ?\n"
     ]
    }
   ],
   "source": [
    "# Bir kişinin yaşını ve adını alarak, eğer kişi 18 yaşından küçükse \"Merhaba [isim], nasılsın?\" değilse \"Merhaba Bay/Bayan [isim], hoş geldiniz!\" diye yazdırın.\n",
    "name = input(\"What is your name :\")\n",
    "age = input(\"What is your age :\")\n",
    "if int(age) < 18 :\n",
    "    print(f\"Hello {name} how are you ?\")\n",
    "else :\n",
    "    print(f'Hello Mr./Mrs. {name} welcome')    "
   ]
  },
  {
   "cell_type": "code",
   "execution_count": 17,
   "metadata": {},
   "outputs": [
    {
     "name": "stdout",
     "output_type": "stream",
     "text": [
      "Not same word!\n"
     ]
    }
   ],
   "source": [
    "# iki kelimenin birbiriyle aynı olup olmadığını kontrol eden bir kod yazın. \n",
    "# Kelimeler büyük/küçük harf duyarlılığı olmayacak. Yani 'selaM' ile 'Selam' aynı kabul edilecek.\n",
    "# IPUCU (Kullanicidan aldiginiz ismi lower() metoduyla kuculterek karsilastirin)\n",
    "first_word = input(\"Enter a word :\")\n",
    "second_word = input(\"Enter a word :\")\n",
    "if(first_word.lower() == second_word.lower()):\n",
    "    print(\"Same word!\")\n",
    "else:\n",
    "    print(\"Not same word!\")"
   ]
  },
  {
   "cell_type": "code",
   "execution_count": 20,
   "metadata": {},
   "outputs": [
    {
     "name": "stdout",
     "output_type": "stream",
     "text": [
      "Giris basarısız\n"
     ]
    }
   ],
   "source": [
    "# Kullanıcıdan adı ve parolayı alip kontrol edin. Eğer her ikisi de doğruysa \"Giriş başarılı\", en az biri yanlışsa \"Giriş başarısız\" yazdırın. İç içe koşullar yöntemini kullanın\n",
    "kullanici_adi = 'thinkinton'\n",
    "sifre = 'pass'\n",
    "user_name = input(\"Kullanıcı Adı :\")\n",
    "user_password = input(\"Sifre :\")\n",
    "if(user_name == kullanici_adi) :\n",
    "    if(sifre == user_password) :\n",
    "        print(\"Giris basarılı!\")\n",
    "    else :\n",
    "        print(\"Giris basarısız!\")\n",
    "else :\n",
    "    print(\"Giris basarısız\")        "
   ]
  }
 ],
 "metadata": {
  "kernelspec": {
   "display_name": "Python 3",
   "language": "python",
   "name": "python3"
  },
  "language_info": {
   "codemirror_mode": {
    "name": "ipython",
    "version": 3
   },
   "file_extension": ".py",
   "mimetype": "text/x-python",
   "name": "python",
   "nbconvert_exporter": "python",
   "pygments_lexer": "ipython3",
   "version": "3.12.0"
  }
 },
 "nbformat": 4,
 "nbformat_minor": 2
}
